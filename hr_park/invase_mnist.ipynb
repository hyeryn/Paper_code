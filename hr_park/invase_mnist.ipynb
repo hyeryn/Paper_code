{
 "cells": [
  {
   "cell_type": "code",
   "execution_count": 1,
   "metadata": {},
   "outputs": [],
   "source": [
    "import numpy as np \n",
    "import matplotlib.pyplot as plt \n",
    "import torch\n",
    "import pandas as pd\n",
    "import torch.optim as optim\n",
    "import math\n",
    "import torch.nn as nn\n",
    "import torch.optim as optim\n",
    "from sklearn.model_selection import train_test_split\n",
    "from torch.utils.data import Dataset,DataLoader\n",
    "from scipy.stats import norm\n",
    "from torchvision import datasets, transforms, utils"
   ]
  },
  {
   "attachments": {},
   "cell_type": "markdown",
   "metadata": {},
   "source": [
    "# Data"
   ]
  },
  {
   "cell_type": "code",
   "execution_count": 2,
   "metadata": {},
   "outputs": [],
   "source": [
    "train_set_raw = datasets.MNIST(\n",
    "    root = '../../../data/MNIST',\n",
    "    train = True,\n",
    "    download = True,\n",
    "    transform = transforms.Compose([\n",
    "        transforms.ToTensor(),\n",
    "    ])\n",
    ")\n",
    "test_set_raw = datasets.MNIST(\n",
    "    root = '../../../data/MNIST',\n",
    "    train = False,\n",
    "    download = True,\n",
    "    transform = transforms.Compose([\n",
    "        transforms.ToTensor(),\n",
    "    ])\n",
    ")\n",
    "train_set = list(filter(lambda i: i[1] == 3 or i[1]==8 , train_set_raw))\n",
    "test_set = list(filter(lambda i: i[1] == 3 or i[1]==8 , test_set_raw))"
   ]
  },
  {
   "cell_type": "code",
   "execution_count": 3,
   "metadata": {},
   "outputs": [],
   "source": [
    "for i in range(len(train_set)): \n",
    "    if train_set[i][1]==3:\n",
    "        lst=list(train_set[i])\n",
    "        lst.append(0)\n",
    "        lst.pop(1)\n",
    "        train_set[i] = tuple(lst)\n",
    "\n",
    "    elif train_set[i][1]==8:\n",
    "        lst=list(train_set[i])\n",
    "        lst.append(1)\n",
    "        lst.pop(1)\n",
    "        train_set[i] = tuple(lst)\n",
    "    \n",
    "    else :\n",
    "        pass\n",
    "        "
   ]
  },
  {
   "cell_type": "code",
   "execution_count": 4,
   "metadata": {},
   "outputs": [],
   "source": [
    "train_loader = DataLoader(train_set, batch_size=32,shuffle=True)\n",
    "test_loader = DataLoader(test_set, batch_size=32,shuffle=True)"
   ]
  },
  {
   "attachments": {},
   "cell_type": "markdown",
   "metadata": {},
   "source": [
    "# HyperParameter"
   ]
  },
  {
   "cell_type": "code",
   "execution_count": 5,
   "metadata": {},
   "outputs": [],
   "source": [
    "lr = 0.001\n",
    "EPOCHS = 40\n",
    "USE_CUDA = torch.cuda.is_available()\n",
    "DEVICE = torch.device(\"cuda\" if USE_CUDA else \"cpu\")"
   ]
  },
  {
   "attachments": {},
   "cell_type": "markdown",
   "metadata": {},
   "source": [
    "# Feature Selector"
   ]
  },
  {
   "cell_type": "code",
   "execution_count": 6,
   "metadata": {},
   "outputs": [],
   "source": [
    "actor_h_dim = 200"
   ]
  },
  {
   "cell_type": "code",
   "execution_count": 7,
   "metadata": {},
   "outputs": [],
   "source": [
    "class Selector(nn.Module):\n",
    "    def __init__(self):\n",
    "        super(Selector, self).__init__()\n",
    "\n",
    "        self.actor_model = nn.Sequential(\n",
    "            nn.Linear(784, actor_h_dim),\n",
    "            nn.ReLU(),\n",
    "            nn.Linear(actor_h_dim, actor_h_dim),\n",
    "            nn.ReLU(),\n",
    "            nn.Linear(actor_h_dim, actor_h_dim),\n",
    "            nn.ReLU(),\n",
    "            nn.Linear(actor_h_dim, actor_h_dim),\n",
    "            nn.ReLU(),\n",
    "            nn.Linear(actor_h_dim, 784),\n",
    "        )\n",
    "\n",
    "    def forward(self, x):\n",
    "        prob = self.actor_model(x)\n",
    "\n",
    "        return prob"
   ]
  },
  {
   "cell_type": "code",
   "execution_count": 8,
   "metadata": {},
   "outputs": [],
   "source": [
    "selector = Selector()"
   ]
  },
  {
   "cell_type": "code",
   "execution_count": 9,
   "metadata": {},
   "outputs": [],
   "source": [
    "class FeatureSelector(nn.Module):\n",
    "    def __init__(self, input_dim=784):\n",
    "        super(FeatureSelector, self).__init__()\n",
    "        self.mu = 0.01*torch.randn(input_dim, )\n",
    "        self.eps = torch.randn(self.mu.size()) # random noise\n",
    "        self.sigma = 1.0\n",
    "    \n",
    "    def hard_sigmoid(self, x):\n",
    "        return torch.clamp(x, 0.0, 1.0)\n",
    "\n",
    "    def forward(self, prev_x):\n",
    "        self.mu = selector(prev_x)\n",
    "        z = self.mu + self.sigma*self.eps.normal_()\n",
    "        stochastic_gate = self.hard_sigmoid(z)\n",
    "        new_x = prev_x * stochastic_gate\n",
    "        return new_x\n",
    "    \n",
    "    def regularizer(self): # Gaussian CDF\n",
    "        return 0.5 * (1 + torch.erf(self.mu / math.sqrt(2))) \n",
    "\n",
    "    def get_gates(self):\n",
    "        return self.mu.detach().cpu().numpy(), np.minimum(1.0, np.maximum(0.0, self.mu.detach().cpu().numpy())) \n"
   ]
  },
  {
   "attachments": {},
   "cell_type": "markdown",
   "metadata": {},
   "source": [
    "# Model"
   ]
  },
  {
   "cell_type": "code",
   "execution_count": 10,
   "metadata": {},
   "outputs": [],
   "source": [
    "feature_selector = FeatureSelector()"
   ]
  },
  {
   "cell_type": "code",
   "execution_count": 11,
   "metadata": {},
   "outputs": [],
   "source": [
    "class NET(nn.Module):\n",
    "    def __init__(self):\n",
    "        super().__init__()\n",
    "        self.NN =nn.Sequential(\n",
    "            nn.Linear(784,256),\n",
    "            nn.ReLU(),\n",
    "            nn.Linear(256,256),\n",
    "            nn.ReLU(),\n",
    "            nn.Linear(256,128),\n",
    "            nn.ReLU(),\n",
    "            nn.Linear(128,2),\n",
    "            nn.Sigmoid()\n",
    "        )\n",
    "        self.feature_selector = feature_selector\n",
    "        self.regularizer = feature_selector.regularizer\n",
    "        self.get_gates = feature_selector.get_gates\n",
    "        \n",
    "    def forward(self,x):\n",
    "        x = x.view(-1,784)\n",
    "        x = feature_selector(x)\n",
    "        x = self.NN(x)\n",
    "        return x"
   ]
  },
  {
   "cell_type": "code",
   "execution_count": 12,
   "metadata": {},
   "outputs": [],
   "source": [
    "model = NET()\n",
    "criterion = torch.nn.CrossEntropyLoss()\n",
    "optimizer = optim.Adam(model.parameters(), lr = 1e-3)"
   ]
  },
  {
   "cell_type": "code",
   "execution_count": 13,
   "metadata": {},
   "outputs": [],
   "source": [
    "def train(model, train_loader, optimizer, criterion):\n",
    "    model.train()\n",
    "    train_loss = 0 \n",
    "   \n",
    "    for data, target in train_loader:\n",
    "        input_x, target_x = data, target\n",
    "\n",
    "        optimizer.zero_grad()\n",
    "        output = model(input_x)\n",
    "        regularizer = torch.mean(model.regularizer())\n",
    "        loss = criterion(output,target_x) + 0.3 * regularizer \n",
    "        loss.backward()\n",
    "        optimizer.step()\n",
    "        train_loss += loss.item()\n",
    "    train_loss /= len(train_loader)\n",
    "    return train_loss"
   ]
  },
  {
   "cell_type": "code",
   "execution_count": 14,
   "metadata": {},
   "outputs": [
    {
     "name": "stdout",
     "output_type": "stream",
     "text": [
      "[EPOCH: 0], \tTrain Loss: 0.5541\n",
      "[EPOCH: 1], \tTrain Loss: 0.5298\n",
      "[EPOCH: 2], \tTrain Loss: 0.5171\n",
      "[EPOCH: 3], \tTrain Loss: 0.5116\n",
      "[EPOCH: 4], \tTrain Loss: 0.5037\n",
      "[EPOCH: 5], \tTrain Loss: 0.4990\n",
      "[EPOCH: 6], \tTrain Loss: 0.4978\n",
      "[EPOCH: 7], \tTrain Loss: 0.4986\n",
      "[EPOCH: 8], \tTrain Loss: 0.4954\n",
      "[EPOCH: 9], \tTrain Loss: 0.4938\n",
      "[EPOCH: 10], \tTrain Loss: 0.4921\n",
      "[EPOCH: 11], \tTrain Loss: 0.4924\n",
      "[EPOCH: 12], \tTrain Loss: 0.4915\n",
      "[EPOCH: 13], \tTrain Loss: 0.4910\n",
      "[EPOCH: 14], \tTrain Loss: 0.4894\n",
      "[EPOCH: 15], \tTrain Loss: 0.4902\n",
      "[EPOCH: 16], \tTrain Loss: 0.4872\n",
      "[EPOCH: 17], \tTrain Loss: 0.4877\n",
      "[EPOCH: 18], \tTrain Loss: 0.4909\n",
      "[EPOCH: 19], \tTrain Loss: 0.4878\n",
      "[EPOCH: 20], \tTrain Loss: 0.4875\n",
      "[EPOCH: 21], \tTrain Loss: 0.4843\n",
      "[EPOCH: 22], \tTrain Loss: 0.4856\n",
      "[EPOCH: 23], \tTrain Loss: 0.4859\n",
      "[EPOCH: 24], \tTrain Loss: 0.4866\n",
      "[EPOCH: 25], \tTrain Loss: 0.4875\n",
      "[EPOCH: 26], \tTrain Loss: 0.4848\n",
      "[EPOCH: 27], \tTrain Loss: 0.4837\n",
      "[EPOCH: 28], \tTrain Loss: 0.4841\n",
      "[EPOCH: 29], \tTrain Loss: 0.4838\n",
      "[EPOCH: 30], \tTrain Loss: 0.4869\n",
      "[EPOCH: 31], \tTrain Loss: 0.4825\n",
      "[EPOCH: 32], \tTrain Loss: 0.4823\n",
      "[EPOCH: 33], \tTrain Loss: 0.4827\n",
      "[EPOCH: 34], \tTrain Loss: 0.4840\n",
      "[EPOCH: 35], \tTrain Loss: 0.4825\n",
      "[EPOCH: 36], \tTrain Loss: 0.4834\n",
      "[EPOCH: 37], \tTrain Loss: 0.4820\n",
      "[EPOCH: 38], \tTrain Loss: 0.4816\n",
      "[EPOCH: 39], \tTrain Loss: 0.4806\n",
      "[EPOCH: 40], \tTrain Loss: 0.4808\n"
     ]
    }
   ],
   "source": [
    "result_list = []\n",
    "for epoch in range(0, EPOCHS + 1):\n",
    "    train_loss = train(model, train_loader, optimizer, criterion)\n",
    "    #val_loss = evaluate(model, test_loader,criterion)\n",
    "    print(f\"[EPOCH: {epoch}], \\tTrain Loss: {train_loss:.4f}\")\n",
    "    result = {\n",
    "        'EPOCH': epoch,\n",
    "        'Train Loss': train_loss,\n",
    "        #'Val Loss': val_loss,\n",
    "        #'Val Accuracy': val_accuracy\n",
    "        }\n",
    "    result_list.append(result)\n",
    "result_df = pd.DataFrame(result_list)"
   ]
  },
  {
   "cell_type": "code",
   "execution_count": 15,
   "metadata": {},
   "outputs": [
    {
     "data": {
      "text/plain": [
       "<AxesSubplot:>"
      ]
     },
     "execution_count": 15,
     "metadata": {},
     "output_type": "execute_result"
    },
    {
     "data": {
      "image/png": "[encoded data removed]",
      "text/plain": [
       "<Figure size 640x480 with 1 Axes>"
      ]
     },
     "metadata": {},
     "output_type": "display_data"
    }
   ],
   "source": [
    "result_df['Train Loss'].plot()"
   ]
  },
  {
   "cell_type": "code",
   "execution_count": 16,
   "metadata": {},
   "outputs": [
    {
     "name": "stdout",
     "output_type": "stream",
     "text": [
      " prob :  [[0.09046578 0.06778814 0.00383873 ... 0.         0.07506263 0.03186372]\n",
      " [0.09443724 0.06488867 0.00462349 ... 0.         0.07241939 0.03180945]\n",
      " [0.09209282 0.05936721 0.00643781 ... 0.         0.07551174 0.03535706]\n",
      " ...\n",
      " [0.09123566 0.06728856 0.00458806 ... 0.         0.07437897 0.03195434]\n",
      " [0.09527514 0.06472076 0.00378748 ... 0.         0.07516748 0.03857888]\n",
      " [0.09467068 0.0615145  0.00165498 ... 0.         0.07994742 0.03712402]]\n"
     ]
    }
   ],
   "source": [
    "raw, prob = model.get_gates()\n",
    "#print('raw : ', raw)\n",
    "print(\" prob : \", prob)"
   ]
  },
  {
   "cell_type": "code",
   "execution_count": 22,
   "metadata": {},
   "outputs": [
    {
     "data": {
      "text/plain": [
       "tensor([0.0000e+00, 0.0000e+00, 0.0000e+00, 0.0000e+00, 0.0000e+00, 0.0000e+00,\n",
       "        0.0000e+00, 0.0000e+00, 0.0000e+00, 0.0000e+00, 0.0000e+00, 0.0000e+00,\n",
       "        0.0000e+00, 0.0000e+00, 0.0000e+00, 0.0000e+00, 0.0000e+00, 0.0000e+00,\n",
       "        0.0000e+00, 0.0000e+00, 0.0000e+00, 0.0000e+00, 0.0000e+00, 0.0000e+00,\n",
       "        0.0000e+00, 0.0000e+00, 0.0000e+00, 0.0000e+00, 0.0000e+00, 0.0000e+00,\n",
       "        0.0000e+00, 0.0000e+00, 0.0000e+00, 0.0000e+00, 0.0000e+00, 0.0000e+00,\n",
       "        0.0000e+00, 0.0000e+00, 0.0000e+00, 0.0000e+00, 0.0000e+00, 0.0000e+00,\n",
       "        0.0000e+00, 0.0000e+00, 0.0000e+00, 0.0000e+00, 0.0000e+00, 0.0000e+00,\n",
       "        0.0000e+00, 0.0000e+00, 0.0000e+00, 0.0000e+00, 0.0000e+00, 0.0000e+00,\n",
       "        0.0000e+00, 0.0000e+00, 0.0000e+00, 0.0000e+00, 0.0000e+00, 0.0000e+00,\n",
       "        0.0000e+00, 0.0000e+00, 0.0000e+00, 0.0000e+00, 0.0000e+00, 0.0000e+00,\n",
       "        0.0000e+00, 0.0000e+00, 0.0000e+00, 0.0000e+00, 0.0000e+00, 0.0000e+00,\n",
       "        0.0000e+00, 0.0000e+00, 0.0000e+00, 0.0000e+00, 0.0000e+00, 0.0000e+00,\n",
       "        0.0000e+00, 0.0000e+00, 0.0000e+00, 0.0000e+00, 0.0000e+00, 0.0000e+00,\n",
       "        0.0000e+00, 0.0000e+00, 0.0000e+00, 0.0000e+00, 0.0000e+00, 0.0000e+00,\n",
       "        0.0000e+00, 0.0000e+00, 0.0000e+00, 0.0000e+00, 0.0000e+00, 0.0000e+00,\n",
       "        0.0000e+00, 0.0000e+00, 0.0000e+00, 0.0000e+00, 0.0000e+00, 0.0000e+00,\n",
       "        0.0000e+00, 0.0000e+00, 0.0000e+00, 0.0000e+00, 0.0000e+00, 0.0000e+00,\n",
       "        0.0000e+00, 0.0000e+00, 0.0000e+00, 0.0000e+00, 0.0000e+00, 0.0000e+00,\n",
       "        0.0000e+00, 0.0000e+00, 0.0000e+00, 0.0000e+00, 0.0000e+00, 0.0000e+00,\n",
       "        0.0000e+00, 0.0000e+00, 0.0000e+00, 0.0000e+00, 0.0000e+00, 0.0000e+00,\n",
       "        0.0000e+00, 0.0000e+00, 0.0000e+00, 0.0000e+00, 0.0000e+00, 0.0000e+00,\n",
       "        0.0000e+00, 0.0000e+00, 0.0000e+00, 0.0000e+00, 0.0000e+00, 0.0000e+00,\n",
       "        0.0000e+00, 0.0000e+00, 0.0000e+00, 0.0000e+00, 0.0000e+00, 0.0000e+00,\n",
       "        0.0000e+00, 0.0000e+00, 0.0000e+00, 0.0000e+00, 0.0000e+00, 0.0000e+00,\n",
       "        0.0000e+00, 0.0000e+00, 0.0000e+00, 0.0000e+00, 0.0000e+00, 0.0000e+00,\n",
       "        0.0000e+00, 0.0000e+00, 5.8039e-01, 0.0000e+00, 6.6275e-01, 0.0000e+00,\n",
       "        0.0000e+00, 5.2204e-02, 0.0000e+00, 0.0000e+00, 0.0000e+00, 0.0000e+00,\n",
       "        0.0000e+00, 0.0000e+00, 0.0000e+00, 0.0000e+00, 0.0000e+00, 0.0000e+00,\n",
       "        0.0000e+00, 0.0000e+00, 0.0000e+00, 0.0000e+00, 0.0000e+00, 0.0000e+00,\n",
       "        0.0000e+00, 3.3514e-01, 9.1984e-02, 6.0537e-01, 0.0000e+00, 0.0000e+00,\n",
       "        0.0000e+00, 0.0000e+00, 0.0000e+00, 0.0000e+00, 5.9359e-01, 0.0000e+00,\n",
       "        0.0000e+00, 0.0000e+00, 0.0000e+00, 0.0000e+00, 0.0000e+00, 0.0000e+00,\n",
       "        0.0000e+00, 0.0000e+00, 0.0000e+00, 0.0000e+00, 0.0000e+00, 0.0000e+00,\n",
       "        0.0000e+00, 0.0000e+00, 0.0000e+00, 2.5545e-02, 1.8246e-01, 0.0000e+00,\n",
       "        3.0032e-01, 0.0000e+00, 0.0000e+00, 5.5686e-01, 0.0000e+00, 0.0000e+00,\n",
       "        3.4108e-01, 0.0000e+00, 0.0000e+00, 7.8431e-01, 0.0000e+00, 0.0000e+00,\n",
       "        0.0000e+00, 0.0000e+00, 0.0000e+00, 0.0000e+00, 0.0000e+00, 0.0000e+00,\n",
       "        0.0000e+00, 0.0000e+00, 0.0000e+00, 0.0000e+00, 0.0000e+00, 0.0000e+00,\n",
       "        0.0000e+00, 5.8130e-03, 0.0000e+00, 5.4611e-02, 0.0000e+00, 0.0000e+00,\n",
       "        0.0000e+00, 0.0000e+00, 0.0000e+00, 0.0000e+00, 0.0000e+00, 0.0000e+00,\n",
       "        0.0000e+00, 2.6755e-01, 0.0000e+00, 0.0000e+00, 0.0000e+00, 0.0000e+00,\n",
       "        0.0000e+00, 0.0000e+00, 0.0000e+00, 0.0000e+00, 0.0000e+00, 0.0000e+00,\n",
       "        0.0000e+00, 0.0000e+00, 0.0000e+00, 0.0000e+00, 0.0000e+00, 0.0000e+00,\n",
       "        0.0000e+00, 0.0000e+00, 0.0000e+00, 0.0000e+00, 0.0000e+00, 0.0000e+00,\n",
       "        0.0000e+00, 0.0000e+00, 9.8039e-01, 0.0000e+00, 0.0000e+00, 0.0000e+00,\n",
       "        0.0000e+00, 0.0000e+00, 0.0000e+00, 0.0000e+00, 0.0000e+00, 0.0000e+00,\n",
       "        0.0000e+00, 0.0000e+00, 0.0000e+00, 0.0000e+00, 0.0000e+00, 0.0000e+00,\n",
       "        0.0000e+00, 0.0000e+00, 0.0000e+00, 0.0000e+00, 0.0000e+00, 0.0000e+00,\n",
       "        0.0000e+00, 0.0000e+00, 0.0000e+00, 8.0681e-02, 0.0000e+00, 0.0000e+00,\n",
       "        9.5642e-01, 0.0000e+00, 0.0000e+00, 0.0000e+00, 0.0000e+00, 0.0000e+00,\n",
       "        0.0000e+00, 0.0000e+00, 0.0000e+00, 0.0000e+00, 0.0000e+00, 0.0000e+00,\n",
       "        0.0000e+00, 0.0000e+00, 0.0000e+00, 0.0000e+00, 0.0000e+00, 0.0000e+00,\n",
       "        0.0000e+00, 0.0000e+00, 0.0000e+00, 2.6455e-02, 0.0000e+00, 0.0000e+00,\n",
       "        5.6340e-01, 0.0000e+00, 9.9608e-01, 0.0000e+00, 0.0000e+00, 0.0000e+00,\n",
       "        0.0000e+00, 0.0000e+00, 0.0000e+00, 0.0000e+00, 0.0000e+00, 0.0000e+00,\n",
       "        0.0000e+00, 0.0000e+00, 0.0000e+00, 0.0000e+00, 0.0000e+00, 0.0000e+00,\n",
       "        0.0000e+00, 0.0000e+00, 0.0000e+00, 0.0000e+00, 2.6275e-01, 0.0000e+00,\n",
       "        0.0000e+00, 0.0000e+00, 5.2192e-01, 0.0000e+00, 3.2556e-02, 0.0000e+00,\n",
       "        2.6206e-01, 0.0000e+00, 0.0000e+00, 0.0000e+00, 0.0000e+00, 0.0000e+00,\n",
       "        0.0000e+00, 0.0000e+00, 0.0000e+00, 0.0000e+00, 0.0000e+00, 0.0000e+00,\n",
       "        0.0000e+00, 0.0000e+00, 0.0000e+00, 0.0000e+00, 0.0000e+00, 0.0000e+00,\n",
       "        0.0000e+00, 1.5681e-01, 9.8431e-01, 2.7295e-01, 3.4017e-01, 3.2806e-01,\n",
       "        6.3922e-01, 3.6443e-01, 0.0000e+00, 2.8627e-01, 0.0000e+00, 0.0000e+00,\n",
       "        0.0000e+00, 0.0000e+00, 0.0000e+00, 0.0000e+00, 0.0000e+00, 0.0000e+00,\n",
       "        0.0000e+00, 0.0000e+00, 0.0000e+00, 0.0000e+00, 0.0000e+00, 0.0000e+00,\n",
       "        0.0000e+00, 0.0000e+00, 0.0000e+00, 0.0000e+00, 0.0000e+00, 8.7440e-02,\n",
       "        1.0964e-01, 4.2353e-01, 3.5014e-02, 0.0000e+00, 0.0000e+00, 0.0000e+00,\n",
       "        0.0000e+00, 0.0000e+00, 0.0000e+00, 2.7008e-01, 1.5131e-02, 0.0000e+00,\n",
       "        0.0000e+00, 0.0000e+00, 0.0000e+00, 0.0000e+00, 0.0000e+00, 0.0000e+00,\n",
       "        0.0000e+00, 0.0000e+00, 0.0000e+00, 0.0000e+00, 0.0000e+00, 0.0000e+00,\n",
       "        0.0000e+00, 0.0000e+00, 0.0000e+00, 0.0000e+00, 0.0000e+00, 0.0000e+00,\n",
       "        0.0000e+00, 0.0000e+00, 0.0000e+00, 0.0000e+00, 0.0000e+00, 0.0000e+00,\n",
       "        0.0000e+00, 1.4368e-01, 0.0000e+00, 0.0000e+00, 0.0000e+00, 0.0000e+00,\n",
       "        0.0000e+00, 0.0000e+00, 0.0000e+00, 0.0000e+00, 0.0000e+00, 0.0000e+00,\n",
       "        0.0000e+00, 0.0000e+00, 0.0000e+00, 0.0000e+00, 0.0000e+00, 0.0000e+00,\n",
       "        0.0000e+00, 0.0000e+00, 0.0000e+00, 0.0000e+00, 0.0000e+00, 0.0000e+00,\n",
       "        0.0000e+00, 0.0000e+00, 5.1319e-05, 0.0000e+00, 9.8824e-01, 3.6723e-01,\n",
       "        0.0000e+00, 0.0000e+00, 0.0000e+00, 0.0000e+00, 0.0000e+00, 0.0000e+00,\n",
       "        0.0000e+00, 0.0000e+00, 0.0000e+00, 0.0000e+00, 0.0000e+00, 0.0000e+00,\n",
       "        0.0000e+00, 0.0000e+00, 0.0000e+00, 0.0000e+00, 0.0000e+00, 0.0000e+00,\n",
       "        0.0000e+00, 0.0000e+00, 0.0000e+00, 0.0000e+00, 1.4493e-02, 0.0000e+00,\n",
       "        0.0000e+00, 2.5486e-01, 6.9020e-01, 0.0000e+00, 0.0000e+00, 0.0000e+00,\n",
       "        0.0000e+00, 0.0000e+00, 0.0000e+00, 0.0000e+00, 0.0000e+00, 0.0000e+00,\n",
       "        0.0000e+00, 0.0000e+00, 0.0000e+00, 0.0000e+00, 0.0000e+00, 0.0000e+00,\n",
       "        0.0000e+00, 0.0000e+00, 0.0000e+00, 0.0000e+00, 0.0000e+00, 0.0000e+00,\n",
       "        0.0000e+00, 0.0000e+00, 1.9449e-02, 0.0000e+00, 0.0000e+00, 2.5930e-01,\n",
       "        0.0000e+00, 0.0000e+00, 0.0000e+00, 0.0000e+00, 0.0000e+00, 0.0000e+00,\n",
       "        0.0000e+00, 0.0000e+00, 0.0000e+00, 0.0000e+00, 0.0000e+00, 0.0000e+00,\n",
       "        0.0000e+00, 0.0000e+00, 0.0000e+00, 0.0000e+00, 1.2549e-01, 6.3137e-01,\n",
       "        6.5274e-01, 0.0000e+00, 0.0000e+00, 3.1771e-01, 0.0000e+00, 0.0000e+00,\n",
       "        0.0000e+00, 9.4118e-01, 0.0000e+00, 0.0000e+00, 0.0000e+00, 0.0000e+00,\n",
       "        0.0000e+00, 0.0000e+00, 0.0000e+00, 0.0000e+00, 0.0000e+00, 0.0000e+00,\n",
       "        0.0000e+00, 0.0000e+00, 0.0000e+00, 0.0000e+00, 0.0000e+00, 0.0000e+00,\n",
       "        0.0000e+00, 0.0000e+00, 3.0239e-01, 7.0277e-01, 3.9216e-01, 0.0000e+00,\n",
       "        0.0000e+00, 9.7237e-01, 0.0000e+00, 8.7059e-01, 0.0000e+00, 1.8616e-01,\n",
       "        0.0000e+00, 0.0000e+00, 0.0000e+00, 0.0000e+00, 0.0000e+00, 0.0000e+00,\n",
       "        0.0000e+00, 0.0000e+00, 0.0000e+00, 0.0000e+00, 0.0000e+00, 0.0000e+00,\n",
       "        0.0000e+00, 0.0000e+00, 0.0000e+00, 0.0000e+00, 4.9641e-04, 0.0000e+00,\n",
       "        6.9685e-01, 3.2640e-01, 0.0000e+00, 5.7134e-01, 9.9608e-01, 4.4595e-02,\n",
       "        0.0000e+00, 0.0000e+00, 0.0000e+00, 0.0000e+00, 0.0000e+00, 0.0000e+00,\n",
       "        0.0000e+00, 0.0000e+00, 0.0000e+00, 0.0000e+00, 0.0000e+00, 0.0000e+00,\n",
       "        0.0000e+00, 0.0000e+00, 0.0000e+00, 0.0000e+00, 0.0000e+00, 0.0000e+00,\n",
       "        0.0000e+00, 0.0000e+00, 0.0000e+00, 5.1163e-01, 4.5847e-01, 4.2662e-01,\n",
       "        9.9608e-01, 9.9608e-01, 0.0000e+00, 5.5294e-01, 3.9216e-02, 0.0000e+00,\n",
       "        0.0000e+00, 0.0000e+00, 0.0000e+00, 0.0000e+00, 0.0000e+00, 0.0000e+00,\n",
       "        0.0000e+00, 0.0000e+00, 0.0000e+00, 0.0000e+00, 0.0000e+00, 0.0000e+00,\n",
       "        0.0000e+00, 0.0000e+00, 0.0000e+00, 0.0000e+00, 0.0000e+00, 0.0000e+00,\n",
       "        0.0000e+00, 0.0000e+00, 2.1467e-01, 7.7255e-01, 4.9792e-01, 0.0000e+00,\n",
       "        2.3922e-01, 0.0000e+00, 0.0000e+00, 0.0000e+00, 0.0000e+00, 0.0000e+00,\n",
       "        0.0000e+00, 0.0000e+00, 0.0000e+00, 0.0000e+00, 0.0000e+00, 0.0000e+00,\n",
       "        0.0000e+00, 0.0000e+00, 0.0000e+00, 0.0000e+00, 0.0000e+00, 0.0000e+00,\n",
       "        0.0000e+00, 0.0000e+00, 0.0000e+00, 0.0000e+00, 0.0000e+00, 3.2157e-01,\n",
       "        0.0000e+00, 0.0000e+00, 0.0000e+00, 0.0000e+00, 0.0000e+00, 0.0000e+00,\n",
       "        0.0000e+00, 0.0000e+00, 0.0000e+00, 0.0000e+00, 0.0000e+00, 0.0000e+00,\n",
       "        0.0000e+00, 0.0000e+00, 0.0000e+00, 0.0000e+00, 0.0000e+00, 0.0000e+00,\n",
       "        0.0000e+00, 0.0000e+00, 0.0000e+00, 0.0000e+00, 0.0000e+00, 0.0000e+00,\n",
       "        0.0000e+00, 0.0000e+00, 0.0000e+00, 0.0000e+00, 0.0000e+00, 0.0000e+00,\n",
       "        0.0000e+00, 0.0000e+00, 0.0000e+00, 0.0000e+00, 0.0000e+00, 0.0000e+00,\n",
       "        0.0000e+00, 0.0000e+00, 0.0000e+00, 0.0000e+00, 0.0000e+00, 0.0000e+00,\n",
       "        0.0000e+00, 0.0000e+00, 0.0000e+00, 0.0000e+00, 0.0000e+00, 0.0000e+00,\n",
       "        0.0000e+00, 0.0000e+00, 0.0000e+00, 0.0000e+00, 0.0000e+00, 0.0000e+00,\n",
       "        0.0000e+00, 0.0000e+00, 0.0000e+00, 0.0000e+00, 0.0000e+00, 0.0000e+00,\n",
       "        0.0000e+00, 0.0000e+00, 0.0000e+00, 0.0000e+00, 0.0000e+00, 0.0000e+00,\n",
       "        0.0000e+00, 0.0000e+00, 0.0000e+00, 0.0000e+00, 0.0000e+00, 0.0000e+00,\n",
       "        0.0000e+00, 0.0000e+00, 0.0000e+00, 0.0000e+00, 0.0000e+00, 0.0000e+00,\n",
       "        0.0000e+00, 0.0000e+00, 0.0000e+00, 0.0000e+00, 0.0000e+00, 0.0000e+00,\n",
       "        0.0000e+00, 0.0000e+00, 0.0000e+00, 0.0000e+00, 0.0000e+00, 0.0000e+00,\n",
       "        0.0000e+00, 0.0000e+00, 0.0000e+00, 0.0000e+00, 0.0000e+00, 0.0000e+00,\n",
       "        0.0000e+00, 0.0000e+00, 0.0000e+00, 0.0000e+00, 0.0000e+00, 0.0000e+00,\n",
       "        0.0000e+00, 0.0000e+00, 0.0000e+00, 0.0000e+00],\n",
       "       grad_fn=<MulBackward0>)"
      ]
     },
     "execution_count": 22,
     "metadata": {},
     "output_type": "execute_result"
    }
   ],
   "source": [
    "prob"
   ]
  },
  {
   "cell_type": "code",
   "execution_count": 17,
   "metadata": {},
   "outputs": [
    {
     "data": {
      "text/plain": [
       "(14, 784)"
      ]
     },
     "execution_count": 17,
     "metadata": {},
     "output_type": "execute_result"
    }
   ],
   "source": [
    "prob.shape"
   ]
  },
  {
   "cell_type": "code",
   "execution_count": 19,
   "metadata": {},
   "outputs": [
    {
     "data": {
      "text/plain": [
       "(-0.5, 27.5, 27.5, -0.5)"
      ]
     },
     "execution_count": 19,
     "metadata": {},
     "output_type": "execute_result"
    },
    {
     "data": {
      "image/png": "[encoded data removed]",
      "text/plain": [
       "<Figure size 1000x2000 with 2 Axes>"
      ]
     },
     "metadata": {},
     "output_type": "display_data"
    }
   ],
   "source": [
    "test = train_set[100]\n",
    "lst = list(test)\n",
    "test = lst[0][0]\n",
    "\n",
    "feature_selector.eval()\n",
    "test = test.reshape(784)\n",
    "prob = feature_selector(test)\n",
    "test_prob = prob.reshape(28,28)\n",
    "test = test.reshape(28,28)\n",
    "final = test * test_prob\n",
    "final = final.detach().numpy()\n",
    "\n",
    "fig =  plt.figure(figsize=(10,20))\n",
    "rows = 1 \n",
    "cols = 2\n",
    "\n",
    "ax1 = fig.add_subplot(rows,cols,1)\n",
    "ax1.imshow(test)\n",
    "ax1.axis('off')\n",
    "\n",
    "ax2= fig.add_subplot(rows,cols,2)\n",
    "ax2.imshow(final)\n",
    "ax2.axis('off')"
   ]
  },
  {
   "cell_type": "code",
   "execution_count": 20,
   "metadata": {},
   "outputs": [
    {
     "data": {
      "text/plain": [
       "(-0.5, 27.5, 27.5, -0.5)"
      ]
     },
     "execution_count": 20,
     "metadata": {},
     "output_type": "execute_result"
    },
    {
     "data": {
      "image/png": "[encoded data removed]",
      "text/plain": [
       "<Figure size 1000x2000 with 2 Axes>"
      ]
     },
     "metadata": {},
     "output_type": "display_data"
    }
   ],
   "source": [
    "test = train_set[101]\n",
    "lst = list(test)\n",
    "test = lst[0][0]\n",
    "\n",
    "feature_selector.eval()\n",
    "test = test.reshape(784)\n",
    "prob = feature_selector(test)\n",
    "test_prob = prob.reshape(28,28)\n",
    "test = test.reshape(28,28)\n",
    "final = test * test_prob\n",
    "final = final.detach().numpy()\n",
    "\n",
    "fig =  plt.figure(figsize=(10,20))\n",
    "rows = 1 \n",
    "cols = 2\n",
    "\n",
    "ax1 = fig.add_subplot(rows,cols,1)\n",
    "ax1.imshow(test)\n",
    "ax1.axis('off')\n",
    "\n",
    "ax2= fig.add_subplot(rows,cols,2)\n",
    "ax2.imshow(final)\n",
    "ax2.axis('off')"
   ]
  },
  {
   "cell_type": "code",
   "execution_count": 21,
   "metadata": {},
   "outputs": [
    {
     "data": {
      "text/plain": [
       "(-0.5, 27.5, 27.5, -0.5)"
      ]
     },
     "execution_count": 21,
     "metadata": {},
     "output_type": "execute_result"
    },
    {
     "data": {
      "image/png": "[encoded data removed]",
      "text/plain": [
       "<Figure size 1000x2000 with 2 Axes>"
      ]
     },
     "metadata": {},
     "output_type": "display_data"
    }
   ],
   "source": [
    "test = train_set[102]\n",
    "lst = list(test)\n",
    "test = lst[0][0]\n",
    "\n",
    "feature_selector.eval()\n",
    "test = test.reshape(784)\n",
    "prob = feature_selector(test)\n",
    "test_prob = prob.reshape(28,28)\n",
    "test = test.reshape(28,28)\n",
    "final = test * test_prob\n",
    "final = final.detach().numpy()\n",
    "\n",
    "fig =  plt.figure(figsize=(10,20))\n",
    "rows = 1 \n",
    "cols = 2\n",
    "\n",
    "ax1 = fig.add_subplot(rows,cols,1)\n",
    "ax1.imshow(test)\n",
    "ax1.axis('off')\n",
    "\n",
    "ax2= fig.add_subplot(rows,cols,2)\n",
    "ax2.imshow(final)\n",
    "ax2.axis('off')"
   ]
  }
 ],
 "metadata": {
  "kernelspec": {
   "display_name": "hrpark",
   "language": "python",
   "name": "python3"
  },
  "language_info": {
   "codemirror_mode": {
    "name": "ipython",
    "version": 3
   },
   "file_extension": ".py",
   "mimetype": "text/x-python",
   "name": "python",
   "nbconvert_exporter": "python",
   "pygments_lexer": "ipython3",
   "version": "3.9.13"
  },
  "orig_nbformat": 4,
  "vscode": {
   "interpreter": {
    "hash": "67db2735eed0159e692ab0379d37e88a68f61844e36edf347f2e90f7c2240cef"
   }
  }
 },
 "nbformat": 4,
 "nbformat_minor": 2
}
