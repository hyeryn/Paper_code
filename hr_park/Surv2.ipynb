{
 "cells": [
  {
   "cell_type": "code",
   "execution_count": 15,
   "metadata": {},
   "outputs": [],
   "source": [
    "import torch\n",
    "import torch.nn as nn\n",
    "import torch.optim as optim\n",
    "import pandas as pd\n",
    "import numpy as np\n",
    "import math\n",
    "from sklearn.model_selection import train_test_split\n",
    "from torch.utils.data import Dataset\n",
    "from torch.utils.data import DataLoader"
   ]
  },
  {
   "cell_type": "code",
   "execution_count": 16,
   "metadata": {},
   "outputs": [],
   "source": [
    "def f_get_Normalization(X, norm_mode):\n",
    "    num_Patient, num_Feature = np.shape(X)\n",
    "\n",
    "    if norm_mode == 'standard': #zero mean unit variance\n",
    "        for j in range(num_Feature):\n",
    "            if np.std(X[:,j]) != 0:\n",
    "                X[:,j] = (X[:,j] - np.mean(X[:, j]))/np.std(X[:,j])\n",
    "            else:\n",
    "                X[:,j] = (X[:,j] - np.mean(X[:, j]))\n",
    "    elif norm_mode == 'normal': #min-max normalization\n",
    "        for j in range(num_Feature):\n",
    "            X[:,j] = (X[:,j] - np.min(X[:,j]))/(np.max(X[:,j]) - np.min(X[:,j]))\n",
    "    else:\n",
    "        print(\"INPUT MODE ERROR!\")\n",
    "\n",
    "    return X\n"
   ]
  },
  {
   "cell_type": "code",
   "execution_count": 17,
   "metadata": {},
   "outputs": [],
   "source": [
    "def min_max_normalization(tensor):\n",
    "    min_value = torch.min(tensor)\n",
    "    max_value = torch.max(tensor)\n",
    "\n",
    "    normalized_tensor = (tensor - min_value) / (max_value - min_value)\n",
    "    \n",
    "    return normalized_tensor"
   ]
  },
  {
   "cell_type": "code",
   "execution_count": 18,
   "metadata": {},
   "outputs": [],
   "source": [
    "df1 = pd.read_csv('../DeepHit/sample data/METABRIC/cleaned_features_final.csv')\n",
    "df2 = pd.read_csv('../DeepHit/sample data/METABRIC/label.csv')\n",
    "\n",
    "data = np.asarray(df1)\n",
    "data = f_get_Normalization(data, 'standard') \n",
    "\n",
    "time = np.asarray(df2[['event_time']])\n",
    "label = np.asarray(df2[['label']])\n",
    "\n",
    "num_Category = int(np.max(time)*1.1) # t_max\n",
    "\n",
    "\n",
    "tmp_1 = torch.unsqueeze(torch.Tensor(data),-1)\n",
    "tmp_1 = torch.Tensor(tmp_1).expand(tmp_1.shape[0],tmp_1.shape[1],num_Category)\n",
    "tmp_2 = torch.Tensor(np.arange(0,num_Category))\n",
    "tmp_2 = min_max_normalization(tmp_2)\n",
    "tmp_2 = tmp_2.unsqueeze(0)\n",
    "tmp_2 = tmp_2.unsqueeze(0)\n",
    "tmp_2 = tmp_2.expand(tmp_1.shape[0],tmp_2.shape[1],tmp_2.shape[2])\n",
    "result = torch.cat((tmp_1, tmp_2), dim=1) # [# of patient, feature, time]"
   ]
  },
  {
   "cell_type": "code",
   "execution_count": 19,
   "metadata": {},
   "outputs": [],
   "source": [
    "x_train, x_test, y_train, y_test = train_test_split(result, label, test_size=0.1)\n",
    "\n",
    "x_train = torch.from_numpy(np.asarray(x_train)).float()\n",
    "y_train = torch.from_numpy(np.asarray(y_train))\n",
    "\n",
    "x_test = torch.from_numpy(np.asarray(x_test)).float()\n",
    "y_test = torch.from_numpy(np.asarray(y_test))"
   ]
  },
  {
   "cell_type": "code",
   "execution_count": 20,
   "metadata": {},
   "outputs": [
    {
     "data": {
      "text/plain": [
       "torch.Size([1782, 80, 10139])"
      ]
     },
     "execution_count": 20,
     "metadata": {},
     "output_type": "execute_result"
    }
   ],
   "source": [
    "x_train.shape"
   ]
  },
  {
   "cell_type": "code",
   "execution_count": 21,
   "metadata": {},
   "outputs": [],
   "source": [
    "class DataSet(Dataset):\n",
    "    def __init__(self, data, label, time):\n",
    "        self.data = data\n",
    "        self.label = label\n",
    "        self.time = time    \n",
    "    \n",
    "    def __len__(self):\n",
    "        return len(self.data)\n",
    "\n",
    "    def __getitem__(self, idx):\n",
    "        data = self.data[idx]\n",
    "        label = self.label[idx]\n",
    "        time = self.time[idx]\n",
    "        return data, label, time"
   ]
  },
  {
   "cell_type": "code",
   "execution_count": 22,
   "metadata": {},
   "outputs": [],
   "source": [
    "BATCH_SIZE = 32"
   ]
  },
  {
   "cell_type": "code",
   "execution_count": 23,
   "metadata": {},
   "outputs": [],
   "source": [
    "train_dataset = DataSet(x_train, y_train, time)\n",
    "train_loader = DataLoader(train_dataset, batch_size = BATCH_SIZE, shuffle = True, drop_last = True)\n",
    "test_dataset = DataSet(x_test,y_test, time)\n",
    "test_loader = DataLoader(test_dataset, batch_size = BATCH_SIZE, shuffle = True, drop_last = True)"
   ]
  },
  {
   "cell_type": "code",
   "execution_count": 24,
   "metadata": {},
   "outputs": [],
   "source": [
    "class model(nn.Module):\n",
    "    def __init__(self):\n",
    "        super().__init__()\n",
    "        self.input_dim = x_train.shape[1] * x_train.shape[2]\n",
    "        self.h_dim = 200\n",
    "        self.output_dim = x_train.shape[1] * x_train.shape[2]\n",
    "        self.network = nn.Sequential(\n",
    "                nn.Linear(self.input_dim,self.h_dim),\n",
    "                nn.ReLU(),\n",
    "                nn.Linear(self.h_dim,self.h_dim),\n",
    "                nn.ReLU(),\n",
    "                nn.Linear(self.h_dim,self.h_dim),\n",
    "                nn.ReLU(),\n",
    "                nn.Linear(self.h_dim,self.output_dim),\n",
    "                nn.Softmax(dim=1)\n",
    "            )\n",
    "       \n",
    "    def forward(self,x): \n",
    "        x= self.network(x)\n",
    "        return x"
   ]
  },
  {
   "cell_type": "code",
   "execution_count": 25,
   "metadata": {},
   "outputs": [],
   "source": [
    "model = model()\n",
    "optimizer = optim.Adam(model.parameters(), lr=1e-4)"
   ]
  },
  {
   "cell_type": "code",
   "execution_count": 26,
   "metadata": {},
   "outputs": [],
   "source": [
    "def uncensor(output, time, label):\n",
    "    loss  = []\n",
    "    I_1 = torch.sign(label[:,0])\n",
    "\n",
    "    for index, row in enumerate(output):\n",
    "        x = output[index, :, :int(time[index, 0])] #(80, time)\n",
    "\n",
    "        i = x[:, :-1] # uncensor는 event 직전까지\n",
    "        i = np.log(i)\n",
    "        i = np.sum(i, axis=1)\n",
    "\n",
    "        h = 1-x\n",
    "        j = h[:,-1]\n",
    "        j = np.log(j)\n",
    "\n",
    "        p = i + j             #(80, 1)\n",
    "\n",
    "        a = -(p.mean(axis=0)) #event_time loss (scalar)\n",
    "\n",
    "        loss.append(a)   \n",
    "\n",
    "    uncensor = torch.tensor(loss, requires_grad=True) * I_1\n",
    "    uncensor = uncensor.mean(axis=0)\n",
    "    \n",
    "    return uncensor"
   ]
  },
  {
   "cell_type": "code",
   "execution_count": 27,
   "metadata": {},
   "outputs": [],
   "source": [
    "def censor(output, time, label):\n",
    "    loss = []\n",
    "    I_1 = torch.sign(label[:,0])\n",
    "\n",
    "    for index, row in enumerate(output):\n",
    "        x = output[index, :, :int(time[index, 0])] #(80, time)\n",
    "\n",
    "        i = x[:, :] # censor는 censor까지\n",
    "        i = np.log(i)\n",
    "        i = np.sum(i, axis=1)\n",
    "        \n",
    "        a = -(i.mean(axis=0))\n",
    "        \n",
    "        loss.append(a)   \n",
    "\n",
    "    uncensor = torch.tensor(loss, requires_grad=True) * (1. - I_1)\n",
    "    uncensor = uncensor.mean(axis=0)\n",
    "    \n",
    "    return uncensor"
   ]
  },
  {
   "attachments": {},
   "cell_type": "markdown",
   "metadata": {},
   "source": [
    "### loss 고민할 부분\n",
    "\n",
    "loss 배치 단위로 mean 하기 전에\n",
    "\n",
    "**mean or sum** \n",
    "\n",
    "=> log like hood니까 각 log값에 대해서 sum 하는게 맞는 것 같은데 .. 값 너무 커지는 문제"
   ]
  },
  {
   "cell_type": "code",
   "execution_count": 28,
   "metadata": {},
   "outputs": [
    {
     "name": "stdout",
     "output_type": "stream",
     "text": [
      "Epoch :  0    Cost Train :  6.08885383605957    Cost Test :  6.098014831542969\n",
      "Epoch :  1    Cost Train :  6.135250091552734    Cost Test :  6.027105808258057\n",
      "Epoch :  2    Cost Train :  6.104302883148193    Cost Test :  6.027256011962891\n",
      "Epoch :  3    Cost Train :  6.088857650756836    Cost Test :  6.0272674560546875\n",
      "Epoch :  4    Cost Train :  6.104324817657471    Cost Test :  6.098020553588867\n",
      "Epoch :  5    Cost Train :  6.096598148345947    Cost Test :  6.09788179397583\n",
      "Epoch :  6    Cost Train :  6.112053871154785    Cost Test :  6.239785671234131\n",
      "Epoch :  7    Cost Train :  6.112040042877197    Cost Test :  6.027248859405518\n"
     ]
    },
    {
     "ename": "KeyboardInterrupt",
     "evalue": "",
     "output_type": "error",
     "traceback": [
      "\u001b[0;31m---------------------------------------------------------------------------\u001b[0m",
      "\u001b[0;31mKeyboardInterrupt\u001b[0m                         Traceback (most recent call last)",
      "Cell \u001b[0;32mIn[28], line 15\u001b[0m\n\u001b[1;32m     12\u001b[0m data \u001b[39m=\u001b[39m data\u001b[39m.\u001b[39mmT\u001b[39m.\u001b[39mreshape(\u001b[39m32\u001b[39m, \u001b[39m-\u001b[39m\u001b[39m1\u001b[39m)\n\u001b[1;32m     13\u001b[0m time \u001b[39m=\u001b[39m time\u001b[39m.\u001b[39mdetach()\u001b[39m.\u001b[39mnumpy() \n\u001b[0;32m---> 15\u001b[0m output \u001b[39m=\u001b[39m model(data)\n\u001b[1;32m     16\u001b[0m output \u001b[39m=\u001b[39m output\u001b[39m.\u001b[39mreshape(\u001b[39m32\u001b[39m, \u001b[39m80\u001b[39m, \u001b[39m-\u001b[39m\u001b[39m1\u001b[39m)\n\u001b[1;32m     17\u001b[0m output \u001b[39m=\u001b[39m output\u001b[39m.\u001b[39mdetach()\u001b[39m.\u001b[39mnumpy()\n",
      "File \u001b[0;32m/opt/anaconda3/envs/hrpark/lib/python3.9/site-packages/torch/nn/modules/module.py:1130\u001b[0m, in \u001b[0;36mModule._call_impl\u001b[0;34m(self, *input, **kwargs)\u001b[0m\n\u001b[1;32m   1126\u001b[0m \u001b[39m# If we don't have any hooks, we want to skip the rest of the logic in\u001b[39;00m\n\u001b[1;32m   1127\u001b[0m \u001b[39m# this function, and just call forward.\u001b[39;00m\n\u001b[1;32m   1128\u001b[0m \u001b[39mif\u001b[39;00m \u001b[39mnot\u001b[39;00m (\u001b[39mself\u001b[39m\u001b[39m.\u001b[39m_backward_hooks \u001b[39mor\u001b[39;00m \u001b[39mself\u001b[39m\u001b[39m.\u001b[39m_forward_hooks \u001b[39mor\u001b[39;00m \u001b[39mself\u001b[39m\u001b[39m.\u001b[39m_forward_pre_hooks \u001b[39mor\u001b[39;00m _global_backward_hooks\n\u001b[1;32m   1129\u001b[0m         \u001b[39mor\u001b[39;00m _global_forward_hooks \u001b[39mor\u001b[39;00m _global_forward_pre_hooks):\n\u001b[0;32m-> 1130\u001b[0m     \u001b[39mreturn\u001b[39;00m forward_call(\u001b[39m*\u001b[39;49m\u001b[39minput\u001b[39;49m, \u001b[39m*\u001b[39;49m\u001b[39m*\u001b[39;49mkwargs)\n\u001b[1;32m   1131\u001b[0m \u001b[39m# Do not call functions when jit is used\u001b[39;00m\n\u001b[1;32m   1132\u001b[0m full_backward_hooks, non_full_backward_hooks \u001b[39m=\u001b[39m [], []\n",
      "Cell \u001b[0;32mIn[24], line 19\u001b[0m, in \u001b[0;36mmodel.forward\u001b[0;34m(self, x)\u001b[0m\n\u001b[1;32m     18\u001b[0m \u001b[39mdef\u001b[39;00m \u001b[39mforward\u001b[39m(\u001b[39mself\u001b[39m,x): \n\u001b[0;32m---> 19\u001b[0m     x\u001b[39m=\u001b[39m \u001b[39mself\u001b[39;49m\u001b[39m.\u001b[39;49mnetwork(x)\n\u001b[1;32m     20\u001b[0m     \u001b[39mreturn\u001b[39;00m x\n",
      "File \u001b[0;32m/opt/anaconda3/envs/hrpark/lib/python3.9/site-packages/torch/nn/modules/module.py:1130\u001b[0m, in \u001b[0;36mModule._call_impl\u001b[0;34m(self, *input, **kwargs)\u001b[0m\n\u001b[1;32m   1126\u001b[0m \u001b[39m# If we don't have any hooks, we want to skip the rest of the logic in\u001b[39;00m\n\u001b[1;32m   1127\u001b[0m \u001b[39m# this function, and just call forward.\u001b[39;00m\n\u001b[1;32m   1128\u001b[0m \u001b[39mif\u001b[39;00m \u001b[39mnot\u001b[39;00m (\u001b[39mself\u001b[39m\u001b[39m.\u001b[39m_backward_hooks \u001b[39mor\u001b[39;00m \u001b[39mself\u001b[39m\u001b[39m.\u001b[39m_forward_hooks \u001b[39mor\u001b[39;00m \u001b[39mself\u001b[39m\u001b[39m.\u001b[39m_forward_pre_hooks \u001b[39mor\u001b[39;00m _global_backward_hooks\n\u001b[1;32m   1129\u001b[0m         \u001b[39mor\u001b[39;00m _global_forward_hooks \u001b[39mor\u001b[39;00m _global_forward_pre_hooks):\n\u001b[0;32m-> 1130\u001b[0m     \u001b[39mreturn\u001b[39;00m forward_call(\u001b[39m*\u001b[39;49m\u001b[39minput\u001b[39;49m, \u001b[39m*\u001b[39;49m\u001b[39m*\u001b[39;49mkwargs)\n\u001b[1;32m   1131\u001b[0m \u001b[39m# Do not call functions when jit is used\u001b[39;00m\n\u001b[1;32m   1132\u001b[0m full_backward_hooks, non_full_backward_hooks \u001b[39m=\u001b[39m [], []\n",
      "File \u001b[0;32m/opt/anaconda3/envs/hrpark/lib/python3.9/site-packages/torch/nn/modules/container.py:139\u001b[0m, in \u001b[0;36mSequential.forward\u001b[0;34m(self, input)\u001b[0m\n\u001b[1;32m    137\u001b[0m \u001b[39mdef\u001b[39;00m \u001b[39mforward\u001b[39m(\u001b[39mself\u001b[39m, \u001b[39minput\u001b[39m):\n\u001b[1;32m    138\u001b[0m     \u001b[39mfor\u001b[39;00m module \u001b[39min\u001b[39;00m \u001b[39mself\u001b[39m:\n\u001b[0;32m--> 139\u001b[0m         \u001b[39minput\u001b[39m \u001b[39m=\u001b[39m module(\u001b[39minput\u001b[39;49m)\n\u001b[1;32m    140\u001b[0m     \u001b[39mreturn\u001b[39;00m \u001b[39minput\u001b[39m\n",
      "File \u001b[0;32m/opt/anaconda3/envs/hrpark/lib/python3.9/site-packages/torch/nn/modules/module.py:1130\u001b[0m, in \u001b[0;36mModule._call_impl\u001b[0;34m(self, *input, **kwargs)\u001b[0m\n\u001b[1;32m   1126\u001b[0m \u001b[39m# If we don't have any hooks, we want to skip the rest of the logic in\u001b[39;00m\n\u001b[1;32m   1127\u001b[0m \u001b[39m# this function, and just call forward.\u001b[39;00m\n\u001b[1;32m   1128\u001b[0m \u001b[39mif\u001b[39;00m \u001b[39mnot\u001b[39;00m (\u001b[39mself\u001b[39m\u001b[39m.\u001b[39m_backward_hooks \u001b[39mor\u001b[39;00m \u001b[39mself\u001b[39m\u001b[39m.\u001b[39m_forward_hooks \u001b[39mor\u001b[39;00m \u001b[39mself\u001b[39m\u001b[39m.\u001b[39m_forward_pre_hooks \u001b[39mor\u001b[39;00m _global_backward_hooks\n\u001b[1;32m   1129\u001b[0m         \u001b[39mor\u001b[39;00m _global_forward_hooks \u001b[39mor\u001b[39;00m _global_forward_pre_hooks):\n\u001b[0;32m-> 1130\u001b[0m     \u001b[39mreturn\u001b[39;00m forward_call(\u001b[39m*\u001b[39;49m\u001b[39minput\u001b[39;49m, \u001b[39m*\u001b[39;49m\u001b[39m*\u001b[39;49mkwargs)\n\u001b[1;32m   1131\u001b[0m \u001b[39m# Do not call functions when jit is used\u001b[39;00m\n\u001b[1;32m   1132\u001b[0m full_backward_hooks, non_full_backward_hooks \u001b[39m=\u001b[39m [], []\n",
      "File \u001b[0;32m/opt/anaconda3/envs/hrpark/lib/python3.9/site-packages/torch/nn/modules/linear.py:114\u001b[0m, in \u001b[0;36mLinear.forward\u001b[0;34m(self, input)\u001b[0m\n\u001b[1;32m    113\u001b[0m \u001b[39mdef\u001b[39;00m \u001b[39mforward\u001b[39m(\u001b[39mself\u001b[39m, \u001b[39minput\u001b[39m: Tensor) \u001b[39m-\u001b[39m\u001b[39m>\u001b[39m Tensor:\n\u001b[0;32m--> 114\u001b[0m     \u001b[39mreturn\u001b[39;00m F\u001b[39m.\u001b[39;49mlinear(\u001b[39minput\u001b[39;49m, \u001b[39mself\u001b[39;49m\u001b[39m.\u001b[39;49mweight, \u001b[39mself\u001b[39;49m\u001b[39m.\u001b[39;49mbias)\n",
      "\u001b[0;31mKeyboardInterrupt\u001b[0m: "
     ]
    }
   ],
   "source": [
    "epochs = 50\n",
    "result = []\n",
    "result2 = []\n",
    "\n",
    "for epoch in range(epochs):\n",
    "    cost = 0.0\n",
    "    cost2 = 0.0\n",
    "\n",
    "    model.train()\n",
    "    for i, (data, label, time) in enumerate(train_loader):\n",
    "\n",
    "        data = data.mT.reshape(32, -1)\n",
    "        time = time.detach().numpy() \n",
    "\n",
    "        output = model(data)\n",
    "        output = output.reshape(32, 80, -1)\n",
    "        output = output.detach().numpy()\n",
    "        \n",
    "        output = 1-output\n",
    "        \n",
    "        # loss\n",
    "        loss_uncensor = uncensor(output, time, label)\n",
    "        loss_censor = censor(output, time, label)\n",
    "        loss = loss_uncensor + loss_censor\n",
    "\n",
    "        optimizer.zero_grad()\n",
    "        loss.backward()\n",
    "        optimizer.step()\n",
    "\n",
    "        cost += loss\n",
    "    \n",
    "    cost = cost / len(train_loader)\n",
    "    cost = cost.item()\n",
    "    result.append(cost)\n",
    "\n",
    "    model.eval()\n",
    "    with torch.no_grad():\n",
    "        for (data, label, time) in test_loader:\n",
    "\n",
    "            data = data.mT.reshape(32, -1)\n",
    "            time = time.detach().numpy() \n",
    "\n",
    "            output = model(data)\n",
    "            output = output.reshape(32, 80, -1)\n",
    "            output = output.detach().numpy()\n",
    "            \n",
    "            output = 1-output\n",
    "\n",
    "            # loss\n",
    "            loss_uncensor = uncensor(output, time, label)\n",
    "            loss_censor = censor(output, time, label)\n",
    "            loss = loss_uncensor + loss_censor\n",
    "\n",
    "            cost2 += loss\n",
    "            \n",
    "        cost2 = cost2 / len(test_loader)\n",
    "        cost2 = cost2.item()\n",
    "        result2.append(cost2)\n",
    "\n",
    "    if (epoch + 1) % 1 == 0:\n",
    "        print(\"Epoch : \", epoch, \"   Cost Train : \", cost, \"   Cost Test : \", cost2)"
   ]
  },
  {
   "cell_type": "code",
   "execution_count": 29,
   "metadata": {},
   "outputs": [
    {
     "data": {
      "image/png": "[encoded data removed]",
      "text/plain": [
       "<Figure size 640x480 with 1 Axes>"
      ]
     },
     "metadata": {},
     "output_type": "display_data"
    }
   ],
   "source": [
    "import matplotlib.pyplot as plt\n",
    "\n",
    "plt.plot(result)\n",
    "plt.plot(result2)\n",
    "plt.show()"
   ]
  },
  {
   "attachments": {},
   "cell_type": "markdown",
   "metadata": {},
   "source": [
    "overfitting ? ..."
   ]
  },
  {
   "cell_type": "markdown",
   "metadata": {},
   "source": []
  }
 ],
 "metadata": {
  "kernelspec": {
   "display_name": "hrpark",
   "language": "python",
   "name": "python3"
  },
  "language_info": {
   "codemirror_mode": {
    "name": "ipython",
    "version": 3
   },
   "file_extension": ".py",
   "mimetype": "text/x-python",
   "name": "python",
   "nbconvert_exporter": "python",
   "pygments_lexer": "ipython3",
   "version": "3.9.16"
  },
  "orig_nbformat": 4,
  "vscode": {
   "interpreter": {
    "hash": "67db2735eed0159e692ab0379d37e88a68f61844e36edf347f2e90f7c2240cef"
   }
  }
 },
 "nbformat": 4,
 "nbformat_minor": 2
}
