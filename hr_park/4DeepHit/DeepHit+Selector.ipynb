{
 "cells": [
  {
   "attachments": {},
   "cell_type": "markdown",
   "metadata": {},
   "source": [
    "### Dataset"
   ]
  },
  {
   "cell_type": "code",
   "execution_count": 1,
   "metadata": {},
   "outputs": [],
   "source": [
    "import numpy as np\n",
    "import pandas as pd\n",
    "import random"
   ]
  },
  {
   "cell_type": "code",
   "execution_count": 2,
   "metadata": {},
   "outputs": [],
   "source": [
    "##### DEFINE USER-FUNCTIONS #####\n",
    "def f_get_Normalization(X, norm_mode):\n",
    "    num_Patient, num_Feature = np.shape(X)\n",
    "\n",
    "    if norm_mode == 'standard': #zero mean unit variance\n",
    "        for j in range(num_Feature):\n",
    "            if np.std(X[:,j]) != 0:\n",
    "                X[:,j] = (X[:,j] - np.mean(X[:, j]))/np.std(X[:,j])\n",
    "            else:\n",
    "                X[:,j] = (X[:,j] - np.mean(X[:, j]))\n",
    "    elif norm_mode == 'normal': #min-max normalization\n",
    "        for j in range(num_Feature):\n",
    "            X[:,j] = (X[:,j] - np.min(X[:,j]))/(np.max(X[:,j]) - np.min(X[:,j]))\n",
    "    else:\n",
    "        print(\"INPUT MODE ERROR!\")\n",
    "\n",
    "    return X"
   ]
  },
  {
   "cell_type": "code",
   "execution_count": 3,
   "metadata": {},
   "outputs": [],
   "source": [
    "### MASK FUNCTIONS\n",
    "'''\n",
    "    fc_mask2      : To calculate LOSS_1 (log-likelihood loss)\n",
    "    fc_mask3      : To calculate LOSS_2 (ranking loss)\n",
    "'''\n",
    "def f_get_fc_mask2(time, label, num_Event, num_Category):\n",
    "    '''\n",
    "        mask4 is required to get the log-likelihood loss\n",
    "        mask4 size is [N, num_Event, num_Category]\n",
    "            if not censored : one element = 1 (0 elsewhere)\n",
    "            if censored     : fill elements with 1 after the censoring time (for all events)\n",
    "    '''\n",
    "    mask = np.zeros([np.shape(time)[0], num_Event, num_Category]) # for the first loss function\n",
    "    for i in range(np.shape(time)[0]):\n",
    "        if label[i,0] != 0:  #not censored\n",
    "            mask[i,int(label[i,0]-1),int(time[i,0])] = 1\n",
    "        else: #label[i,2]==0: censored\n",
    "            mask[i,:,int(time[i,0]+1):] =  1 #fill 1 until from the censoring time (to get 1 - \\sum F)\n",
    "    return mask\n",
    "\n",
    "\n",
    "def f_get_fc_mask3(time, meas_time, num_Category):\n",
    "    '''\n",
    "        mask5 is required calculate the ranking loss (for pair-wise comparision)\n",
    "        mask5 size is [N, num_Category].\n",
    "        - For longitudinal measurements:\n",
    "             1's from the last measurement to the event time (exclusive and inclusive, respectively)\n",
    "             denom is not needed since comparing is done over the same denom\n",
    "        - For single measurement:\n",
    "             1's from start to the event time(inclusive)\n",
    "    '''\n",
    "    mask = np.zeros([np.shape(time)[0], num_Category]) # for the first loss function\n",
    "    if np.shape(meas_time):  #lonogitudinal measurements\n",
    "        for i in range(np.shape(time)[0]):\n",
    "            t1 = int(meas_time[i, 0]) # last measurement time\n",
    "            t2 = int(time[i, 0]) # censoring/event time\n",
    "            mask[i,(t1+1):(t2+1)] = 1  #this excludes the last measurement time and includes the event time\n",
    "    else:                    #single measurement\n",
    "        for i in range(np.shape(time)[0]):\n",
    "            t = int(time[i, 0]) # censoring/event time\n",
    "            mask[i,:(t+1)] = 1  #this excludes the last measurement time and includes the event time\n",
    "    return mask"
   ]
  },
  {
   "cell_type": "code",
   "execution_count": 4,
   "metadata": {},
   "outputs": [],
   "source": [
    "def import_dataset_METABRIC(norm_mode='standard'):\n",
    "    in_filename1 = './sample data/METABRIC/cleaned_features_final.csv'\n",
    "    in_filename2 = './sample data/METABRIC/label.csv'\n",
    "\n",
    "    df1 = pd.read_csv(in_filename1, sep =',')\n",
    "    df2 = pd.read_csv(in_filename2, sep =',')\n",
    "\n",
    "    data  = np.asarray(df1)\n",
    "    data  = f_get_Normalization(data, norm_mode)\n",
    "    \n",
    "    time  = np.asarray(df2[['event_time']])\n",
    "    # time  = np.round(time/12.) #unit time = month\n",
    "    label = np.asarray(df2[['label']])\n",
    "\n",
    "    \n",
    "    num_Category    = int(np.max(time) * 1.2)        #to have enough time-horizon\n",
    "    num_Event       = int(len(np.unique(label)) - 1) #only count the number of events (do not count censoring as an event)\n",
    "\n",
    "    x_dim           = np.shape(data)[1]\n",
    "\n",
    "    mask1           = f_get_fc_mask2(time, label, num_Event, num_Category)\n",
    "    mask2           = f_get_fc_mask3(time, -1, num_Category)\n",
    "\n",
    "    DIM             = (x_dim)\n",
    "    DATA            = (data, time, label)\n",
    "    MASK            = (mask1, mask2)\n",
    "\n",
    "    return DIM, DATA, MASK"
   ]
  },
  {
   "cell_type": "code",
   "execution_count": 5,
   "metadata": {},
   "outputs": [],
   "source": [
    "(x_dim), (data, time, label), (mask1, mask2) = import_dataset_METABRIC(norm_mode ='standard')"
   ]
  },
  {
   "cell_type": "code",
   "execution_count": 6,
   "metadata": {},
   "outputs": [],
   "source": [
    "DATA = (data, time, label)\n",
    "MASK = (mask1, mask2)"
   ]
  },
  {
   "cell_type": "code",
   "execution_count": 7,
   "metadata": {},
   "outputs": [
    {
     "data": {
      "text/plain": [
       "((1981, 79), (1981, 1), (1981, 1), (1981, 1, 11061), (1981, 11061))"
      ]
     },
     "execution_count": 7,
     "metadata": {},
     "output_type": "execute_result"
    }
   ],
   "source": [
    "data.shape, time.shape, label.shape, mask1.shape, mask2.shape"
   ]
  },
  {
   "attachments": {},
   "cell_type": "markdown",
   "metadata": {},
   "source": [
    "### Network"
   ]
  },
  {
   "cell_type": "code",
   "execution_count": 8,
   "metadata": {},
   "outputs": [],
   "source": [
    "import torch\n",
    "import torch.nn as nn\n",
    "import torch.optim as optim"
   ]
  },
  {
   "cell_type": "code",
   "execution_count": 9,
   "metadata": {},
   "outputs": [],
   "source": [
    "x_dim = np.shape(data)[1]\n",
    "_, num_Event, num_Category  = np.shape(mask1)"
   ]
  },
  {
   "cell_type": "code",
   "execution_count": 10,
   "metadata": {},
   "outputs": [
    {
     "data": {
      "text/plain": [
       "(1, 11061)"
      ]
     },
     "execution_count": 10,
     "metadata": {},
     "output_type": "execute_result"
    }
   ],
   "source": [
    "num_Event, num_Category"
   ]
  },
  {
   "cell_type": "code",
   "execution_count": 11,
   "metadata": {},
   "outputs": [],
   "source": [
    "actor_h_dim = 200\n",
    "\n",
    "class Selector(nn.Module):\n",
    "    def __init__(self):\n",
    "        super(Selector, self).__init__()\n",
    "\n",
    "        self.actor_model = nn.Sequential(\n",
    "            nn.Linear(x_dim, actor_h_dim),\n",
    "            nn.ReLU(),\n",
    "            nn.Linear(actor_h_dim, actor_h_dim),\n",
    "            nn.ReLU(),\n",
    "            nn.Linear(actor_h_dim, actor_h_dim),\n",
    "            nn.ReLU(),\n",
    "            nn.Linear(actor_h_dim, actor_h_dim),\n",
    "            nn.ReLU(),\n",
    "            nn.Linear(actor_h_dim, x_dim),\n",
    "        )\n",
    "\n",
    "    def forward(self, x):\n",
    "        prob = self.actor_model(x)\n",
    "\n",
    "        return prob"
   ]
  },
  {
   "cell_type": "code",
   "execution_count": 12,
   "metadata": {},
   "outputs": [],
   "source": [
    "selector = Selector()"
   ]
  },
  {
   "cell_type": "code",
   "execution_count": 13,
   "metadata": {},
   "outputs": [],
   "source": [
    "import math"
   ]
  },
  {
   "cell_type": "code",
   "execution_count": 14,
   "metadata": {},
   "outputs": [],
   "source": [
    "class FeatureSelector(nn.Module):\n",
    "    def __init__(self, input_dim=x_dim):\n",
    "        super(FeatureSelector, self).__init__()\n",
    "        self.mu = 0.01*torch.randn(input_dim, )\n",
    "        self.eps = torch.randn(self.mu.size()) # random noise\n",
    "        self.sigma = 1.0\n",
    "    \n",
    "    def hard_sigmoid(self, x):\n",
    "        return torch.clamp(x, 0.0, 1.0)\n",
    "\n",
    "    def forward(self, prev_x):\n",
    "        self.mu = selector(prev_x)\n",
    "        z = self.mu + self.sigma*self.eps.normal_()\n",
    "        stochastic_gate = self.hard_sigmoid(z)\n",
    "        new_x = prev_x * stochastic_gate\n",
    "        return new_x\n",
    "    \n",
    "    def regularizer(self): # Gaussian CDF\n",
    "        return 0.5 * (1 + torch.erf(self.mu / math.sqrt(2))) \n",
    "\n",
    "    def get_gates(self):\n",
    "        return self.mu.detach().cpu().numpy(), np.minimum(1.0, np.maximum(0.0, self.mu.detach().cpu().numpy())) "
   ]
  },
  {
   "cell_type": "code",
   "execution_count": 15,
   "metadata": {},
   "outputs": [],
   "source": [
    "feature_selector = FeatureSelector()"
   ]
  },
  {
   "cell_type": "code",
   "execution_count": 16,
   "metadata": {},
   "outputs": [],
   "source": [
    "class DeepHit(nn.Module):\n",
    "    def __init__(self):\n",
    "        super(DeepHit, self).__init__()\n",
    "\n",
    "        # INPUT DIMENSIONS\n",
    "        self.x_dim              = x_dim\n",
    "        self.num_Event          = num_Event\n",
    "        self.num_Category       = num_Category\n",
    "\n",
    "        # NETWORK HYPER-PARAMETERS\n",
    "        self.h_dim              = 100   # number of nodes\n",
    "        self.h_dim_CS           = 100\n",
    "\n",
    "        self.p = 0.20\n",
    "\n",
    "        # LAYER\n",
    "        # 1 shared sub-network\n",
    "        self.FC_NET = nn.Sequential(\n",
    "            nn.Linear(self.x_dim, self.h_dim),\n",
    "            nn.ReLU(),\n",
    "            nn.Dropout(p=self.p),\n",
    "            nn.Linear(self.h_dim, self.h_dim),\n",
    "            nn.ReLU(),\n",
    "            nn.Dropout(p=self.p),\n",
    "            nn.Linear(self.h_dim, self.h_dim),\n",
    "            nn.ReLU(),\n",
    "            nn.Dropout(p=self.p),\n",
    "            nn.Linear(self.h_dim, self.x_dim),\n",
    "            nn.ReLU(),\n",
    "            nn.Dropout(p=self.p),\n",
    "        )\n",
    "        # 2 cause-specific sub-network\n",
    "        # sample data Num_Event=1\n",
    "        self.Cause_NET_1 = nn.Sequential(\n",
    "            nn.Linear(self.x_dim + self.x_dim, self.h_dim_CS),\n",
    "            nn.ReLU(),\n",
    "            nn.Dropout(p=self.p),\n",
    "            nn.Linear(self.h_dim_CS, self.h_dim_CS),\n",
    "            nn.ReLU(),\n",
    "            nn.Dropout(p=self.p),\n",
    "            nn.Linear(self.h_dim_CS, self.h_dim_CS),\n",
    "            nn.ReLU(),\n",
    "            nn.Dropout(p=self.p),\n",
    "            nn.Linear(self.h_dim_CS, self.h_dim_CS),\n",
    "            nn.ReLU(),\n",
    "            nn.Dropout(p=self.p),\n",
    "        )\n",
    "        # 3 output layer\n",
    "        self.o_layer = nn.Sequential(\n",
    "            nn.Linear(self.num_Event*self.h_dim_CS, self.num_Event*self.num_Category),\n",
    "            nn.Softmax(dim=1)\n",
    "        )\n",
    "\n",
    "        # 4 selector\n",
    "        self.feature_selector = feature_selector\n",
    "        self.regularizer = feature_selector.regularizer\n",
    "        self.get_gates = feature_selector.get_gates\n",
    "\n",
    "    def forward(self, x):\n",
    "\n",
    "        # SELECTOR\n",
    "        x = x.view(-1, x_dim)\n",
    "        x = feature_selector(x)\n",
    "\n",
    "        # FCNETS\n",
    "        shared_out = self.FC_NET(x)\n",
    "        last_x = x  # for residual connection\n",
    "        h = torch.concat([shared_out, last_x], axis=1)\n",
    "\n",
    "        # CSNETS\n",
    "        out = []\n",
    "        cs_out = self.Cause_NET_1(h)\n",
    "        out.append(cs_out)\n",
    "\n",
    "        out = torch.stack(out, axis=1) # stack referenced on subject\n",
    "        out = out.reshape(-1, self.num_Event*self.h_dim_CS)\n",
    "\n",
    "        # OUTPUT layers\n",
    "        out = self.o_layer(out)\n",
    "        out = out.reshape(-1, self.num_Event, self.num_Category)\n",
    "\n",
    "        return out"
   ]
  },
  {
   "attachments": {},
   "cell_type": "markdown",
   "metadata": {},
   "source": [
    "### Loss"
   ]
  },
  {
   "cell_type": "code",
   "execution_count": 17,
   "metadata": {},
   "outputs": [],
   "source": [
    "_EPSILON = 1e-08\n",
    "\n",
    "##### USER-DEFINED FUNCTIONS\n",
    "def log(x):\n",
    "    return torch.log(x + _EPSILON)"
   ]
  },
  {
   "cell_type": "code",
   "execution_count": 18,
   "metadata": {},
   "outputs": [],
   "source": [
    "### LOSS-FUNCTION 1 -- Log-likelihood loss\n",
    "def loss_Log_Likelihood(out, k, fc_mask1):\n",
    "    I_1 = torch.sign(k)\n",
    "\n",
    "    #for uncensored: log P(T=t,K=k|x)\n",
    "    tmp1 = torch.sum(torch.sum(fc_mask1 * out, dim=2), dim=1, keepdims=True)\n",
    "    tmp1 = I_1 * log(tmp1)\n",
    "\n",
    "    #for censored: log \\sum P(T>t|x)\n",
    "    tmp2 = torch.sum(torch.sum(fc_mask1 * out, dim=2), dim=1, keepdims=True)\n",
    "    tmp2 = (1. - I_1) * log(tmp2)\n",
    "\n",
    "    return - torch.mean(tmp1 + tmp2)"
   ]
  },
  {
   "cell_type": "code",
   "execution_count": 19,
   "metadata": {},
   "outputs": [],
   "source": [
    "### LOSS-FUNCTION 2 -- Ranking loss\n",
    "def loss_Ranking(out, k, t, fc_mask2):\n",
    "    sigma1 = 0.1\n",
    "\n",
    "    eta = []\n",
    "    for e in range(num_Event):\n",
    "        one_vector = torch.ones_like(t)\n",
    "        e = torch.tensor(e, dtype=torch.int)\n",
    "        I_2 = torch.eq(k, e+1) #indicator for event\n",
    "        I_2 = torch.tensor(I_2, dtype=torch.float32)\n",
    "        I_2 = torch.diag(torch.squeeze(I_2))\n",
    "\n",
    "        out_e = out[:, e:e+1, :] #각 event별로 따로 받아와서 계산\n",
    "        tmp_e = out_e.reshape(-1, num_Category) #event specific joint prob.\n",
    "\n",
    "        R = torch.matmul(tmp_e, fc_mask2.transpose(0,1)) #no need to divide by each individual dominator\n",
    "        # r_{ij} = risk of i-th pat based on j-th time-condition (last meas. time ~ event time) , i.e. r_i(T_{j})\n",
    "\n",
    "        diag_R = torch.reshape(torch.diagonal(R), [-1, 1])\n",
    "        R = torch.matmul(one_vector, diag_R.transpose(0,1)) - R # R_{ij} = r_{j}(T_{j}) - r_{i}(T_{j})\n",
    "        R = R.transpose(0,1)                                 # Now, R_{ij} (i-th row j-th column) = r_{i}(T_{i}) - r_{j}(T_{i})\n",
    "\n",
    "        T = torch.sign(torch.matmul(one_vector, t.transpose(0,1)) - torch.matmul(t, one_vector.transpose(0,1)))\n",
    "        relu = nn.ReLU()\n",
    "        T = relu(T)\n",
    "        # T_{ij}=1 if t_i < t_j  and T_{ij}=0 if t_i >= t_j\n",
    "\n",
    "        T = torch.matmul(I_2, T) # only remains T_{ij}=1 when event occured for subject i\n",
    "        tmp_eta = torch.mean(T * torch.exp(-R/sigma1), dim=1, keepdim=True)\n",
    "\n",
    "        eta.append(tmp_eta)\n",
    "\n",
    "    eta = torch.stack(eta, dim=1) #stack referenced on subjects\n",
    "    eta = torch.mean(eta.reshape(-1, num_Event), dim=1, keepdim=True)\n",
    "\n",
    "    return torch.sum(eta) #sum over num_Events"
   ]
  },
  {
   "attachments": {},
   "cell_type": "markdown",
   "metadata": {},
   "source": [
    "### train"
   ]
  },
  {
   "cell_type": "code",
   "execution_count": 20,
   "metadata": {},
   "outputs": [],
   "source": [
    "from sklearn.model_selection import train_test_split"
   ]
  },
  {
   "cell_type": "code",
   "execution_count": 21,
   "metadata": {},
   "outputs": [],
   "source": [
    "### TRAINING-TESTING SPLIT\n",
    "(tr_data,te_data, tr_time,te_time, tr_label,te_label, \n",
    "    tr_mask1,te_mask1, tr_mask2,te_mask2)  = train_test_split(data, time, label, mask1, mask2, test_size=0.20) \n",
    "\n",
    "\n",
    "(tr_data,va_data, tr_time,va_time, tr_label,va_label, \n",
    "    tr_mask1,va_mask1, tr_mask2,va_mask2)  = train_test_split(tr_data, tr_time, tr_label, tr_mask1, tr_mask2, test_size=0.20) "
   ]
  },
  {
   "cell_type": "code",
   "execution_count": 22,
   "metadata": {},
   "outputs": [],
   "source": [
    "from torch.utils.data import Dataset\n",
    "\n",
    "class CustomDataset(Dataset):\n",
    "    def __init__(self, x, y, z, a, b):\n",
    "        super(CustomDataset, self).__init__()\n",
    "        self.x = x\n",
    "        self.y = y\n",
    "        self.z = z\n",
    "        self.a = a\n",
    "        self.b = b\n",
    "\n",
    "    def __len__(self):\n",
    "        return len(self.x)\n",
    "\n",
    "    def __getitem__(self, idx):\n",
    "        x = torch.FloatTensor(self.x[idx])\n",
    "        y = torch.Tensor(self.y[idx])\n",
    "        z = torch.Tensor(self.z[idx])\n",
    "        a = torch.Tensor(self.a[idx])\n",
    "        b = torch.Tensor(self.b[idx])\n",
    "        return x, y, z, a, b"
   ]
  },
  {
   "cell_type": "code",
   "execution_count": 23,
   "metadata": {},
   "outputs": [],
   "source": [
    "from torch.utils.data import DataLoader\n",
    "\n",
    "train_dataset = CustomDataset(tr_data, tr_time, tr_label, tr_mask1, tr_mask2)\n",
    "train_dataloader = DataLoader(train_dataset, batch_size=32, shuffle=True)\n",
    "val_dataset = CustomDataset(va_data, va_time, va_label, va_mask1, va_mask2)\n",
    "val_dataloader = DataLoader(val_dataset, batch_size=32, shuffle=True)\n",
    "test_dataset = CustomDataset(te_data, te_time, te_label, te_mask1, te_mask2)\n",
    "test_dataloader = DataLoader(test_dataset, batch_size=32, shuffle=True)"
   ]
  },
  {
   "cell_type": "code",
   "execution_count": 24,
   "metadata": {},
   "outputs": [],
   "source": [
    "deephit = DeepHit()"
   ]
  },
  {
   "cell_type": "code",
   "execution_count": 25,
   "metadata": {},
   "outputs": [],
   "source": [
    "optimizer = optim.Adam(deephit.parameters(), lr=1e-3)"
   ]
  },
  {
   "cell_type": "code",
   "execution_count": 26,
   "metadata": {},
   "outputs": [
    {
     "name": "stderr",
     "output_type": "stream",
     "text": [
      "/var/folders/1f/lx43cfz945zd15kk2phzq2m40000gn/T/ipykernel_1081/3324615091.py:10: UserWarning: To copy construct from a tensor, it is recommended to use sourceTensor.clone().detach() or sourceTensor.clone().detach().requires_grad_(True), rather than torch.tensor(sourceTensor).\n",
      "  I_2 = torch.tensor(I_2, dtype=torch.float32)\n"
     ]
    },
    {
     "name": "stdout",
     "output_type": "stream",
     "text": [
      "Epoch :    3,  Cost Train : 12.369,   Cost Eval : 12.215\n",
      "Epoch :    6,  Cost Train : 11.785,   Cost Eval : 12.968\n",
      "Epoch :    9,  Cost Train : 11.317,   Cost Eval : 12.714\n",
      "Epoch :   12,  Cost Train : 11.150,   Cost Eval : 12.971\n",
      "Epoch :   15,  Cost Train : 10.961,   Cost Eval : 13.536\n",
      "Epoch :   18,  Cost Train : 10.727,   Cost Eval : 13.430\n",
      "Epoch :   21,  Cost Train : 10.640,   Cost Eval : 14.383\n",
      "Epoch :   24,  Cost Train : 10.744,   Cost Eval : 13.584\n",
      "Epoch :   27,  Cost Train : 10.525,   Cost Eval : 13.960\n",
      "Epoch :   30,  Cost Train : 10.420,   Cost Eval : 13.895\n",
      "Epoch :   33,  Cost Train : 10.463,   Cost Eval : 14.115\n",
      "Epoch :   36,  Cost Train : 10.652,   Cost Eval : 13.797\n",
      "Epoch :   39,  Cost Train : 10.604,   Cost Eval : 14.441\n",
      "Epoch :   42,  Cost Train : 10.514,   Cost Eval : 14.076\n",
      "Epoch :   45,  Cost Train : 10.577,   Cost Eval : 13.554\n",
      "Epoch :   48,  Cost Train : 10.391,   Cost Eval : 14.581\n"
     ]
    }
   ],
   "source": [
    "epochs = 50\n",
    "result = []\n",
    "result2 = []\n",
    "\n",
    "for epoch in range(epochs):\n",
    "    cost = 0.0\n",
    "    cost2 = 0.0\n",
    "\n",
    "    deephit.train()\n",
    "    for i, (x_mb, t_mb, k_mb, m1_mb, m2_mb) in enumerate(train_dataloader):\n",
    "\n",
    "        out = deephit(x_mb)\n",
    "\n",
    "        # feature selector loss\n",
    "        reg = torch.mean(deephit.regularizer())\n",
    "\n",
    "        # survival analysis loss\n",
    "        loss_1 = loss_Log_Likelihood(out, k_mb, m1_mb)\n",
    "        loss_2 = loss_Ranking(out, k_mb, t_mb, m2_mb)\n",
    "        loss_total = loss_1 + loss_2 + 0.3 * reg\n",
    "\n",
    "        optimizer.zero_grad()\n",
    "        loss_total.backward()\n",
    "        optimizer.step()\n",
    "\n",
    "        cost += loss_total \n",
    "    \n",
    "    cost = cost / len(train_dataloader)\n",
    "    result.append(cost.item())\n",
    "\n",
    "    deephit.eval()\n",
    "    with torch.no_grad():\n",
    "        for (x_mb, t_mb, k_mb, m1_mb, m2_mb) in val_dataloader:\n",
    "\n",
    "            out = deephit(x_mb)\n",
    "\n",
    "            loss_1 = loss_Log_Likelihood(out, k_mb, m1_mb)\n",
    "            loss_2 = loss_Ranking(out, k_mb, t_mb, m2_mb)\n",
    "            loss_total = loss_1 + loss_2\n",
    "            #loss_total = loss_1\n",
    "\n",
    "            cost2 += loss_total \n",
    "            \n",
    "        cost2 = cost2 / len(val_dataloader)\n",
    "        result2.append(cost2.item())\n",
    "\n",
    "    if (epoch + 1) % 3 == 0:\n",
    "        # print(f\"Epoch : {epoch+1:4d},  Cost Train : {cost:.3f}\")\n",
    "        print(f\"Epoch : {epoch+1:4d},  Cost Train : {cost:.3f},   Cost Eval : {cost2:.3f}\")"
   ]
  },
  {
   "cell_type": "code",
   "execution_count": 27,
   "metadata": {},
   "outputs": [
    {
     "data": {
      "image/png": "[encoded data removed]",
      "text/plain": [
       "<Figure size 640x480 with 1 Axes>"
      ]
     },
     "metadata": {},
     "output_type": "display_data"
    }
   ],
   "source": [
    "import matplotlib.pyplot as plt\n",
    "\n",
    "plt.plot(result)\n",
    "plt.plot(result2)\n",
    "plt.show()"
   ]
  },
  {
   "attachments": {},
   "cell_type": "markdown",
   "metadata": {},
   "source": [
    "=> OVERFITTING !!!\n",
    "\n",
    "- batchnorm \n",
    "- dropout\n",
    "- weightdecay\n",
    "- init.xavier_normal_"
   ]
  },
  {
   "attachments": {},
   "cell_type": "markdown",
   "metadata": {},
   "source": [
    "### eval"
   ]
  },
  {
   "cell_type": "code",
   "execution_count": 45,
   "metadata": {},
   "outputs": [
    {
     "name": "stdout",
     "output_type": "stream",
     "text": [
      "[0.         0.00559411 0.05114943 0.         0.09787665 0.11040764\n",
      " 0.         0.01091268 0.         0.         0.         0.04646635\n",
      " 0.01984712 0.         0.02546258 0.         0.02672955 0.02580583\n",
      " 0.         0.         0.0221878  0.         0.         0.02681319\n",
      " 0.         0.0252224  0.06158423 0.10936905 0.         0.\n",
      " 0.         0.         0.         0.         0.04805999 0.\n",
      " 0.         0.         0.01327356 0.         0.         0.0556419\n",
      " 0.         0.         0.03986521 0.04771227 0.         0.01581126\n",
      " 0.02984934 0.         0.         0.02295489 0.         0.07804014\n",
      " 0.00980601 0.01094401 0.         0.03538648 0.0242359  0.\n",
      " 0.         0.04190044 0.03765476 0.         0.         0.\n",
      " 0.         0.         0.01461435 0.0899978  0.         0.02583938\n",
      " 0.09360908 0.         0.09366333 0.01345416 0.03418352 0.04619312\n",
      " 0.        ]\n"
     ]
    }
   ],
   "source": [
    "raw, prob = deephit.get_gates()\n",
    "print(prob[0])"
   ]
  },
  {
   "cell_type": "code",
   "execution_count": 29,
   "metadata": {},
   "outputs": [],
   "source": [
    "from lifelines import KaplanMeierFitter"
   ]
  },
  {
   "cell_type": "code",
   "execution_count": 30,
   "metadata": {},
   "outputs": [],
   "source": [
    "### C(t)-INDEX CALCULATION\n",
    "def c_index(Prediction, Time_survival, Death, Time):\n",
    "    '''\n",
    "        This is a cause-specific c(t)-index\n",
    "        - Prediction      : risk at Time (higher --> more risky)\n",
    "        - Time_survival   : survival/censoring time\n",
    "        - Death           :\n",
    "            > 1: death\n",
    "            > 0: censored (including death from other cause)\n",
    "        - Time            : time of evaluation (time-horizon when evaluating C-index)\n",
    "    '''\n",
    "    N = len(Prediction)\n",
    "    A = np.zeros((N,N))\n",
    "    Q = np.zeros((N,N))\n",
    "    N_t = np.zeros((N,N))\n",
    "    Num = 0\n",
    "    Den = 0\n",
    "    for i in range(N):\n",
    "        A[i, np.where(Time_survival[i] < Time_survival)] = 1\n",
    "        Q[i, np.where(Prediction[i] > Prediction)] = 1\n",
    "  \n",
    "        if (Time_survival[i]<=Time and Death[i]==1):\n",
    "            N_t[i,:] = 1\n",
    "\n",
    "    Num  = np.sum(((A)*N_t)*Q)\n",
    "    Den  = np.sum((A)*N_t)\n",
    "\n",
    "    if Num == 0 and Den == 0:\n",
    "        result = -1 # not able to compute c-index!\n",
    "    else:\n",
    "        result = float(Num/Den)\n",
    "\n",
    "    return result"
   ]
  },
  {
   "cell_type": "code",
   "execution_count": 31,
   "metadata": {},
   "outputs": [],
   "source": [
    "### BRIER-SCORE\n",
    "def brier_score(Prediction, Time_survival, Death, Time):\n",
    "    N = len(Prediction)\n",
    "    y_true = ((Time_survival <= Time) * Death).astype(float)\n",
    "\n",
    "    return np.mean((Prediction - y_true)**2)\n",
    "\n",
    "    # result2[k, t] = brier_score_loss(risk[:, k], ((te_time[:,0] <= eval_horizon) * (te_label[:,0] == k+1)).astype(int))"
   ]
  },
  {
   "cell_type": "code",
   "execution_count": 32,
   "metadata": {},
   "outputs": [],
   "source": [
    "##### WEIGHTED C-INDEX & BRIER-SCORE\n",
    "def CensoringProb(Y, T):\n",
    "\n",
    "    T = T.reshape([-1]) # (N,) - np array\n",
    "    Y = Y.reshape([-1]) # (N,) - np array\n",
    "\n",
    "    kmf = KaplanMeierFitter()\n",
    "    kmf.fit(T, event_observed=(Y==0).astype(int))  # censoring prob = survival probability of event \"censoring\"\n",
    "    G = np.asarray(kmf.survival_function_.reset_index()).transpose()\n",
    "    G[1, G[1, :] == 0] = G[1, G[1, :] != 0][-1]  #fill 0 with ZoH (to prevent nan values)\n",
    "    \n",
    "    return G"
   ]
  },
  {
   "cell_type": "code",
   "execution_count": 33,
   "metadata": {},
   "outputs": [],
   "source": [
    "### C(t)-INDEX CALCULATION: this account for the weighted average for unbaised estimation\n",
    "def weighted_c_index(T_train, Y_train, Prediction, T_test, Y_test, Time):\n",
    "    '''\n",
    "        This is a cause-specific c(t)-index\n",
    "        - Prediction      : risk at Time (higher --> more risky)\n",
    "        - Time_survival   : survival/censoring time\n",
    "        - Death           :\n",
    "            > 1: death\n",
    "            > 0: censored (including death from other cause)\n",
    "        - Time            : time of evaluation (time-horizon when evaluating C-index)\n",
    "    '''\n",
    "    G = CensoringProb(Y_train, T_train)\n",
    "\n",
    "    N = len(Prediction)\n",
    "    A = np.zeros((N,N))\n",
    "    Q = np.zeros((N,N))\n",
    "    N_t = np.zeros((N,N))\n",
    "    Num = 0\n",
    "    Den = 0\n",
    "    for i in range(N):\n",
    "        tmp_idx = np.where(G[0,:] >= T_test[i])[0]\n",
    "\n",
    "        if len(tmp_idx) == 0:\n",
    "            W = (1./G[1, -1])**2\n",
    "        else:\n",
    "            W = (1./G[1, tmp_idx[0]])**2\n",
    "\n",
    "        A[i, np.where(T_test[i] < T_test)] = 1. * W\n",
    "        Q[i, np.where(Prediction[i] > Prediction)] = 1. # give weights\n",
    "\n",
    "        if (T_test[i]<=Time and Y_test[i]==1):\n",
    "            N_t[i,:] = 1.\n",
    "\n",
    "    Num  = np.sum(((A)*N_t)*Q)\n",
    "    Den  = np.sum((A)*N_t)\n",
    "\n",
    "    if Num == 0 and Den == 0:\n",
    "        result = -1 # not able to compute c-index!\n",
    "    else:\n",
    "        result = float(Num/Den)\n",
    "\n",
    "    return result"
   ]
  },
  {
   "cell_type": "code",
   "execution_count": 34,
   "metadata": {},
   "outputs": [],
   "source": [
    "# this account for the weighted average for unbaised estimation\n",
    "def weighted_brier_score(T_train, Y_train, Prediction, T_test, Y_test, Time):\n",
    "    G = CensoringProb(Y_train, T_train)\n",
    "    N = len(Prediction)\n",
    "\n",
    "    W = np.zeros(len(Y_test))\n",
    "    Y_tilde = (T_test > Time).astype(float)\n",
    "\n",
    "    for i in range(N):\n",
    "        tmp_idx1 = np.where(G[0,:] >= T_test[i])[0]\n",
    "        tmp_idx2 = np.where(G[0,:] >= Time)[0]\n",
    "\n",
    "        if len(tmp_idx1) == 0:\n",
    "            G1 = G[1, -1]\n",
    "        else:\n",
    "            G1 = G[1, tmp_idx1[0]]\n",
    "\n",
    "        if len(tmp_idx2) == 0:\n",
    "            G2 = G[1, -1]\n",
    "        else:\n",
    "            G2 = G[1, tmp_idx2[0]]\n",
    "        W[i] = (1. - Y_tilde[i])*float(Y_test[i])/G1 + Y_tilde[i]/G2\n",
    "\n",
    "    y_true = ((T_test <= Time) * Y_test).astype(float)\n",
    "\n",
    "    return np.mean(W*(Y_tilde - (1.-Prediction))**2)"
   ]
  },
  {
   "cell_type": "code",
   "execution_count": 35,
   "metadata": {},
   "outputs": [],
   "source": [
    "EVAL_TIMES  = [144, 288, 432]\n",
    "### EVALUATION\n",
    "result1, result2 = np.zeros([num_Event, len(EVAL_TIMES)]), np.zeros([num_Event, len(EVAL_TIMES)])"
   ]
  },
  {
   "cell_type": "code",
   "execution_count": 36,
   "metadata": {},
   "outputs": [],
   "source": [
    "FINAL1 = np.zeros([num_Event, len(EVAL_TIMES), 1])\n",
    "FINAL2 = np.zeros([num_Event, len(EVAL_TIMES), 1])"
   ]
  },
  {
   "cell_type": "code",
   "execution_count": 37,
   "metadata": {},
   "outputs": [],
   "source": [
    "for t, t_time in enumerate(EVAL_TIMES):\n",
    "\n",
    "    eval_horizon = int(t_time)\n",
    "\n",
    "    if eval_horizon >= num_Category:\n",
    "        print( 'ERROR: evaluation horizon is out of range')\n",
    "        result1[:, t] = result2[:, t] = -1\n",
    "    else:\n",
    "        deephit.eval()\n",
    "        with torch.no_grad():\n",
    "            te_data = torch.Tensor(te_data)\n",
    "            out = deephit(te_data)\n",
    "            out = out.numpy()\n",
    "\n",
    "            # calculate F(t | x, Y, t >= t_M) = \\sum_{t_M <= \\tau < t} P(\\tau | x, Y, \\tau > t_M)\n",
    "            risk = np.sum(out[:,:,:(eval_horizon+1)], axis=2) #risk score until EVAL_TIMES\n",
    "\n",
    "            for k in range(num_Event):\n",
    "                # result1[k, t] = c_index(risk[:,k], te_time, (te_label[:,0] == k+1).astype(float), eval_horizon) #-1 for no event (not comparable)\n",
    "                # result2[k, t] = brier_score(risk[:,k], te_time, (te_label[:,0] == k+1).astype(float), eval_horizon) #-1 for no event (not comparable)\n",
    "                result1[k, t] = weighted_c_index(tr_time, (tr_label[:,0] == k+1).astype(int), risk[:,k], te_time, (te_label[:,0] == k+1).astype(int), eval_horizon) #-1 for no event (not comparable)\n",
    "                result2[k, t] = weighted_brier_score(tr_time, (tr_label[:,0] == k+1).astype(int), risk[:,k], te_time, (te_label[:,0] == k+1).astype(int), eval_horizon) #-1 for no event (not comparable)\n",
    "\n",
    "            FINAL1[:, :, 0] = result1\n",
    "            FINAL2[:, :, 0] = result2"
   ]
  },
  {
   "cell_type": "code",
   "execution_count": 38,
   "metadata": {},
   "outputs": [
    {
     "name": "stdout",
     "output_type": "stream",
     "text": [
      "C_index : [[[0.34771574]\n",
      "  [0.78877786]\n",
      "  [0.67472812]]],  \n",
      " brier_score : [[[0.0085274 ]\n",
      "  [0.0163287 ]\n",
      "  [0.03518426]]]\n"
     ]
    }
   ],
   "source": [
    "print(f\"C_index : {FINAL1:},  \\n brier_score : {FINAL2:}\")"
   ]
  }
 ],
 "metadata": {
  "kernelspec": {
   "display_name": "hrpark",
   "language": "python",
   "name": "python3"
  },
  "language_info": {
   "codemirror_mode": {
    "name": "ipython",
    "version": 3
   },
   "file_extension": ".py",
   "mimetype": "text/x-python",
   "name": "python",
   "nbconvert_exporter": "python",
   "pygments_lexer": "ipython3",
   "version": "3.9.16 (main, Mar  8 2023, 04:29:24) \n[Clang 14.0.6 ]"
  },
  "orig_nbformat": 4,
  "vscode": {
   "interpreter": {
    "hash": "67db2735eed0159e692ab0379d37e88a68f61844e36edf347f2e90f7c2240cef"
   }
  }
 },
 "nbformat": 4,
 "nbformat_minor": 2
}
