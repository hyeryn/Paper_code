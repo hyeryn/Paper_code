{
 "cells": [
  {
   "cell_type": "code",
   "execution_count": 9,
   "metadata": {},
   "outputs": [],
   "source": [
    "import numpy as np\n",
    "import torch\n",
    "import torch.nn as nn\n",
    "import torch.nn.functional as F\n",
    "import torch.optim as optim\n",
    "from torchvision import datasets, transforms\n",
    "from tqdm import tqdm\n"
   ]
  },
  {
   "attachments": {},
   "cell_type": "markdown",
   "metadata": {},
   "source": [
    "### hyper_parameter"
   ]
  },
  {
   "cell_type": "code",
   "execution_count": 10,
   "metadata": {},
   "outputs": [],
   "source": [
    "batch_size = 32\n",
    "test_batch_size = 1000\n",
    "iters = 10000\n",
    "lr = 0.01\n",
    "momentum = 0.9\n",
    "alpha = 1.0\n",
    "xi = 10.0\n",
    "eps = 1.0\n",
    "ip = 1\n",
    "workers = 8 \n",
    "seed = 1\n",
    "log_interval = 100"
   ]
  },
  {
   "attachments": {},
   "cell_type": "markdown",
   "metadata": {},
   "source": [
    "### vat.py"
   ]
  },
  {
   "cell_type": "code",
   "execution_count": 11,
   "metadata": {},
   "outputs": [],
   "source": [
    "import contextlib\n",
    "import torch\n",
    "import torch.nn as nn\n",
    "import torch.nn.functional as F\n",
    "\n",
    "\n",
    "@contextlib.contextmanager\n",
    "def _disable_tracking_bn_stats(model):\n",
    "\n",
    "    def switch_attr(m):\n",
    "        if hasattr(m, 'track_running_stats'):\n",
    "            m.track_running_stats ^= True\n",
    "            \n",
    "    model.apply(switch_attr)\n",
    "    yield\n",
    "    model.apply(switch_attr)\n",
    "\n",
    "\n",
    "def _l2_normalize(d):\n",
    "    d_reshaped = d.view(d.shape[0], -1, *(1 for _ in range(d.dim() - 2)))\n",
    "    d /= torch.norm(d_reshaped, dim=1, keepdim=True) + 1e-8\n",
    "    return d\n",
    "\n",
    "\n",
    "class VATLoss(nn.Module):\n",
    "\n",
    "    def __init__(self, xi=10.0, eps=1.0, ip=1):\n",
    "        \"\"\"VAT loss\n",
    "        :param xi: hyperparameter of VAT (default: 10.0)\n",
    "        :param eps: hyperparameter of VAT (default: 1.0)\n",
    "        :param ip: iteration times of computing adv noise (default: 1)\n",
    "        \"\"\"\n",
    "        super(VATLoss, self).__init__()\n",
    "        self.xi = xi\n",
    "        self.eps = eps\n",
    "        self.ip = ip\n",
    "\n",
    "    def forward(self, model, x):\n",
    "        with torch.no_grad():\n",
    "            pred = F.softmax(model(x), dim=1)\n",
    "\n",
    "        # prepare random unit tensor\n",
    "        d = torch.rand(x.shape).sub(0.5).to(x.device)\n",
    "        d = _l2_normalize(d)\n",
    "\n",
    "        with _disable_tracking_bn_stats(model):\n",
    "            # calc adversarial direction\n",
    "            for _ in range(self.ip):\n",
    "                d.requires_grad_()\n",
    "                pred_hat = model(x + self.xi * d)\n",
    "                logp_hat = F.log_softmax(pred_hat, dim=1)\n",
    "                adv_distance = F.kl_div(logp_hat, pred, reduction='batchmean')\n",
    "                adv_distance.backward()\n",
    "                d = _l2_normalize(d.grad)\n",
    "                model.zero_grad()\n",
    "    \n",
    "            # calc LDS\n",
    "            r_adv = d * self.eps\n",
    "            pred_hat = model(x + r_adv)\n",
    "            logp_hat = F.log_softmax(pred_hat, dim=1)\n",
    "            lds = F.kl_div(logp_hat, pred, reduction='batchmean')\n",
    "\n",
    "        return lds"
   ]
  },
  {
   "attachments": {},
   "cell_type": "markdown",
   "metadata": {},
   "source": [
    "### data_utils.py "
   ]
  },
  {
   "cell_type": "code",
   "execution_count": 67,
   "metadata": {},
   "outputs": [],
   "source": [
    "import numpy as np\n",
    "from sklearn.preprocessing import LabelBinarizer\n",
    "from torch.utils.data import DataLoader\n",
    "from torch.utils.data import Dataset\n",
    "from torch.utils.data import sampler\n",
    "from torchvision import datasets\n",
    "from torchvision import transforms\n",
    "\n",
    "\n",
    "class SimpleDataset(Dataset):\n",
    "\n",
    "    def __init__(self, x, y, transform):\n",
    "        self.x = x\n",
    "        self.y = y\n",
    "        self.transform = transform\n",
    "\n",
    "    def __getitem__(self, index):\n",
    "        img = self.x[index]\n",
    "        if self.transform is not None:\n",
    "            img = self.transform(img)\n",
    "        target = self.y[index]\n",
    "        return img, target\n",
    "\n",
    "    def __len__(self):\n",
    "        return len(self.x)\n",
    "\n",
    "\n",
    "class InfiniteSampler(sampler.Sampler):\n",
    "\n",
    "    def __init__(self, num_samples):\n",
    "        self.num_samples = num_samples\n",
    "\n",
    "    def __iter__(self):\n",
    "        while True:\n",
    "            order = np.random.permutation(self.num_samples)\n",
    "            for i in range(self.num_samples):\n",
    "                yield order[i]\n",
    "\n",
    "    def __len__(self):\n",
    "        return None\n",
    "\n",
    "\n",
    "def get_iters(\n",
    "        dataset='CIFAR10', root_path='.', data_transforms=None,\n",
    "        n_labeled=4000, valid_size=1000,\n",
    "        l_batch_size=32, ul_batch_size=128, test_batch_size=256,\n",
    "        workers=0, pseudo_label=None):\n",
    "    \n",
    "    train_path = f'{root_path}/data/{dataset}/train/'\n",
    "    test_path = f'{root_path}/data/{dataset}/test/'\n",
    "\n",
    "    if dataset == 'CIFAR10':\n",
    "        train_dataset = datasets.CIFAR10(train_path, download=True, train=True, transform=None)\n",
    "        test_dataset = datasets.CIFAR10(test_path, download=True, train=False, transform=None)\n",
    "    elif dataset == 'CIFAR100':\n",
    "        train_dataset = datasets.CIFAR100(train_path, download=True, train=True, transform=None)\n",
    "        test_dataset = datasets.CIFAR100(test_path, download=True, train=False, transform=None)\n",
    "    else:\n",
    "        raise ValueError\n",
    "\n",
    "    if data_transforms is None:\n",
    "        data_transforms = {\n",
    "            'train': transforms.Compose([\n",
    "                transforms.ToPILImage(),\n",
    "                transforms.RandomHorizontalFlip(),\n",
    "                transforms.ToTensor(),\n",
    "                transforms.Normalize([0.5, 0.5, 0.5], [0.5, 0.5, 0.5]),\n",
    "            ]),\n",
    "            'eval': transforms.Compose([\n",
    "                transforms.ToPILImage(),\n",
    "                transforms.ToTensor(),\n",
    "                transforms.Normalize([0.5, 0.5, 0.5], [0.5, 0.5, 0.5]),\n",
    "            ]),\n",
    "        }\n",
    "\n",
    "    x_train, y_train = train_dataset.data, np.array(train_dataset.targets)\n",
    "    x_test, y_test = test_dataset.data, np.array(test_dataset.targets)\n",
    "\n",
    "    randperm = np.random.permutation(len(x_train))\n",
    "    labeled_idx = randperm[:n_labeled]\n",
    "    validation_idx = randperm[n_labeled:n_labeled + valid_size]\n",
    "    unlabeled_idx = randperm[n_labeled + valid_size:]\n",
    "\n",
    "    x_labeled = x_train[labeled_idx]\n",
    "    x_validation = x_train[validation_idx]\n",
    "    x_unlabeled = x_train[unlabeled_idx]\n",
    "\n",
    "    y_labeled = y_train[labeled_idx]\n",
    "    y_validation = y_train[validation_idx]\n",
    "    if pseudo_label is None:\n",
    "        y_unlabeled = y_train[unlabeled_idx]\n",
    "    else:\n",
    "        assert isinstance(pseudo_label, np.ndarray)\n",
    "        y_unlabeled = pseudo_label\n",
    "    \n",
    "    data_iterators = {\n",
    "        'labeled': iter(DataLoader(\n",
    "            SimpleDataset(x_labeled, y_labeled, data_transforms['train']),\n",
    "            batch_size=l_batch_size, num_workers=workers,\n",
    "            sampler=InfiniteSampler(len(x_labeled)),\n",
    "        )),\n",
    "        'unlabeled': iter(DataLoader(\n",
    "            SimpleDataset(x_unlabeled, y_unlabeled, data_transforms['train']),\n",
    "            batch_size=ul_batch_size, num_workers=workers,\n",
    "            sampler=InfiniteSampler(len(x_unlabeled)),\n",
    "        )),\n",
    "        'make_pl': iter(DataLoader(\n",
    "            SimpleDataset(x_unlabeled, y_unlabeled, data_transforms['eval']),\n",
    "            batch_size=ul_batch_size, num_workers=workers, shuffle=False\n",
    "        )),\n",
    "        'val': iter(DataLoader(\n",
    "            SimpleDataset(x_validation, y_validation, data_transforms['eval']),\n",
    "            batch_size=len(x_validation), num_workers=workers, shuffle=False\n",
    "        )),\n",
    "        'test': iter(DataLoader(\n",
    "            SimpleDataset(x_test, y_test, data_transforms['eval']),\n",
    "            batch_size=test_batch_size, num_workers=workers, shuffle=False\n",
    "        ))\n",
    "    }\n",
    "\n",
    "    return data_iterators\n"
   ]
  },
  {
   "cell_type": "code",
   "execution_count": null,
   "metadata": {},
   "outputs": [],
   "source": []
  },
  {
   "attachments": {},
   "cell_type": "markdown",
   "metadata": {},
   "source": [
    "### utils.py"
   ]
  },
  {
   "cell_type": "code",
   "execution_count": 68,
   "metadata": {},
   "outputs": [],
   "source": [
    "from collections import OrderedDict\n",
    "import logging\n",
    "from pathlib import Path\n",
    "import torch\n",
    "\n",
    "\n",
    "class AverageMeter(object):\n",
    "    \"\"\"Computes and stores the average and current value\"\"\"\n",
    "\n",
    "    def __init__(self):\n",
    "        self.reset()\n",
    "\n",
    "    def reset(self):\n",
    "        self.val = 0\n",
    "        self.avg = 0\n",
    "        self.sum = 0\n",
    "        self.count = 0\n",
    "\n",
    "    def update(self, val, n=1):\n",
    "        self.val = val\n",
    "        self.sum += val * n\n",
    "        self.count += n\n",
    "        self.avg = self.sum / self.count\n",
    "\n",
    "\n",
    "def accuracy(output, target, top_k=(1,)):\n",
    "    \"\"\"Computes the precision@k for the specified values of k\"\"\"\n",
    "    max_k = max(top_k)\n",
    "    batch_size = target.size(0)\n",
    "\n",
    "    _, pred = output.topk(max_k, 1, True, True)\n",
    "    pred = pred.t()\n",
    "    correct = pred.eq(target.view(1, -1).expand_as(pred))\n",
    "\n",
    "    res = []\n",
    "    for k in top_k:\n",
    "        correct_k = correct[:k].view(-1).float().sum(0, keepdim=True)\n",
    "        res.append(correct_k.mul_(100.0 / batch_size))\n",
    "\n",
    "    if len(res) == 1:\n",
    "        res = res[0]\n",
    "\n",
    "    return res"
   ]
  },
  {
   "attachments": {},
   "cell_type": "markdown",
   "metadata": {},
   "source": [
    "### vat.py"
   ]
  },
  {
   "cell_type": "code",
   "execution_count": 99,
   "metadata": {},
   "outputs": [],
   "source": [
    "class Net(nn.Module):\n",
    "    def __init__(self):\n",
    "        super(Net, self).__init__()\n",
    "        self.conv1 = nn.Conv2d(3, 64, kernel_size=5)\n",
    "        self.conv2 = nn.Conv2d(64, 128, kernel_size=3)\n",
    "        self.conv3 = nn.Conv2d(128, 128, kernel_size=3)\n",
    "        self.fc1 = nn.Linear(128, 10)\n",
    "\n",
    "    def forward(self, x):\n",
    "        x = F.relu(F.max_pool2d(self.conv1(x), 2))\n",
    "        x = F.relu(F.max_pool2d(self.conv2(x), 2))\n",
    "        x = F.relu(F.max_pool2d(self.conv3(x), 2))\n",
    "        x = F.adaptive_avg_pool2d(x, 1)\n",
    "        x = x.view(-1, 128)\n",
    "        x = self.fc1(x)\n",
    "        return x\n",
    "    \n",
    "def train(model, device, data_iterators, optimizer):\n",
    "    model.train()\n",
    "    for i in tqdm(range(1000)):\n",
    "        \n",
    "        # reset\n",
    "        if i % 100 == 0:\n",
    "            ce_losses = AverageMeter()\n",
    "            vat_losses = AverageMeter()\n",
    "            prec1 = AverageMeter()\n",
    "        \n",
    "        x_l, y_l = next(data_iterators['labeled'])\n",
    "        x_ul, _ = next(data_iterators['unlabeled'])\n",
    "\n",
    "        x_l, y_l = x_l.to(device), y_l.to(device)\n",
    "        x_ul = x_ul.to(device)\n",
    "\n",
    "        optimizer.zero_grad()\n",
    "\n",
    "        vat_loss = VATLoss(xi=10.0 , eps=1.0, ip=1)\n",
    "        cross_entropy = nn.CrossEntropyLoss()\n",
    "\n",
    "        lds = vat_loss(model, x_ul)\n",
    "        output = model(x_l)\n",
    "        classification_loss = cross_entropy(output, y_l)\n",
    "        loss = classification_loss + 1.0 * lds\n",
    "        loss.backward()\n",
    "        optimizer.step()\n",
    "\n",
    "        acc = accuracy(output, y_l)\n",
    "        ce_losses.update(classification_loss.item(), x_l.shape[0])\n",
    "        vat_losses.update(lds.item(), x_ul.shape[0])\n",
    "        prec1.update(acc.item(), x_l.shape[0])\n",
    "\n",
    "        if i % 100 == 0:\n",
    "            print(f'\\nIteration: {i}\\t'\n",
    "                  f'CrossEntropyLoss {ce_losses.val:.4f} ({ce_losses.avg:.4f})\\t'\n",
    "                  f'VATLoss {vat_losses.val:.4f} ({vat_losses.avg:.4f})\\t'\n",
    "                  f'Prec@1 {prec1.val:.3f} ({prec1.avg:.3f})')\n",
    "            \n"
   ]
  },
  {
   "attachments": {},
   "cell_type": "markdown",
   "metadata": {},
   "source": [
    "### main"
   ]
  },
  {
   "cell_type": "code",
   "execution_count": 103,
   "metadata": {},
   "outputs": [
    {
     "name": "stdout",
     "output_type": "stream",
     "text": [
      "Files already downloaded and verified\n",
      "Files already downloaded and verified\n"
     ]
    },
    {
     "name": "stderr",
     "output_type": "stream",
     "text": [
      "  0%|          | 5/10000 [00:00<13:21, 12.47it/s]  "
     ]
    },
    {
     "name": "stdout",
     "output_type": "stream",
     "text": [
      "\n",
      "Iteration: 0\tCrossEntropyLoss 2.3205 (2.3205)\tVATLoss 0.0000 (0.0000)\tPrec@1 9.375 (9.375)\n"
     ]
    },
    {
     "name": "stderr",
     "output_type": "stream",
     "text": [
      "  1%|          | 106/10000 [00:03<04:18, 38.26it/s]"
     ]
    },
    {
     "name": "stdout",
     "output_type": "stream",
     "text": [
      "\n",
      "Iteration: 100\tCrossEntropyLoss 2.2977 (2.2977)\tVATLoss 0.0000 (0.0000)\tPrec@1 21.875 (21.875)\n"
     ]
    },
    {
     "name": "stderr",
     "output_type": "stream",
     "text": [
      "  2%|▏         | 208/10000 [00:05<04:17, 38.04it/s]"
     ]
    },
    {
     "name": "stdout",
     "output_type": "stream",
     "text": [
      "\n",
      "Iteration: 200\tCrossEntropyLoss 2.2995 (2.2995)\tVATLoss 0.0000 (0.0000)\tPrec@1 15.625 (15.625)\n"
     ]
    },
    {
     "name": "stderr",
     "output_type": "stream",
     "text": [
      "  3%|▎         | 308/10000 [00:08<04:11, 38.52it/s]"
     ]
    },
    {
     "name": "stdout",
     "output_type": "stream",
     "text": [
      "\n",
      "Iteration: 300\tCrossEntropyLoss 2.3130 (2.3130)\tVATLoss 0.0000 (0.0000)\tPrec@1 3.125 (3.125)\n"
     ]
    },
    {
     "name": "stderr",
     "output_type": "stream",
     "text": [
      "  4%|▍         | 404/10000 [00:11<03:57, 40.44it/s]"
     ]
    },
    {
     "name": "stdout",
     "output_type": "stream",
     "text": [
      "\n",
      "Iteration: 400\tCrossEntropyLoss 2.3075 (2.3075)\tVATLoss 0.0000 (0.0000)\tPrec@1 12.500 (12.500)\n"
     ]
    },
    {
     "name": "stderr",
     "output_type": "stream",
     "text": [
      "  5%|▌         | 506/10000 [00:13<04:24, 35.94it/s]"
     ]
    },
    {
     "name": "stdout",
     "output_type": "stream",
     "text": [
      "\n",
      "Iteration: 500\tCrossEntropyLoss 2.2973 (2.2973)\tVATLoss 0.0000 (0.0000)\tPrec@1 12.500 (12.500)\n"
     ]
    },
    {
     "name": "stderr",
     "output_type": "stream",
     "text": [
      "  6%|▌         | 608/10000 [00:16<04:06, 38.06it/s]"
     ]
    },
    {
     "name": "stdout",
     "output_type": "stream",
     "text": [
      "\n",
      "Iteration: 600\tCrossEntropyLoss 2.3258 (2.3258)\tVATLoss 0.0000 (0.0000)\tPrec@1 0.000 (0.000)\n"
     ]
    },
    {
     "name": "stderr",
     "output_type": "stream",
     "text": [
      "  7%|▋         | 705/10000 [00:19<03:51, 40.17it/s]"
     ]
    },
    {
     "name": "stdout",
     "output_type": "stream",
     "text": [
      "\n",
      "Iteration: 700\tCrossEntropyLoss 2.3067 (2.3067)\tVATLoss 0.0000 (0.0000)\tPrec@1 12.500 (12.500)\n"
     ]
    },
    {
     "name": "stderr",
     "output_type": "stream",
     "text": [
      "  8%|▊         | 806/10000 [00:21<04:01, 38.09it/s]"
     ]
    },
    {
     "name": "stdout",
     "output_type": "stream",
     "text": [
      "\n",
      "Iteration: 800\tCrossEntropyLoss 2.3106 (2.3106)\tVATLoss 0.0000 (0.0000)\tPrec@1 15.625 (15.625)\n"
     ]
    },
    {
     "name": "stderr",
     "output_type": "stream",
     "text": [
      "  9%|▉         | 906/10000 [00:24<04:10, 36.37it/s]"
     ]
    },
    {
     "name": "stdout",
     "output_type": "stream",
     "text": [
      "\n",
      "Iteration: 900\tCrossEntropyLoss 2.3134 (2.3134)\tVATLoss 0.0000 (0.0000)\tPrec@1 9.375 (9.375)\n"
     ]
    },
    {
     "name": "stderr",
     "output_type": "stream",
     "text": [
      " 10%|█         | 1008/10000 [00:27<03:46, 39.71it/s]"
     ]
    },
    {
     "name": "stdout",
     "output_type": "stream",
     "text": [
      "\n",
      "Iteration: 1000\tCrossEntropyLoss 2.3017 (2.3017)\tVATLoss 0.0000 (0.0000)\tPrec@1 12.500 (12.500)\n"
     ]
    },
    {
     "name": "stderr",
     "output_type": "stream",
     "text": [
      " 11%|█         | 1108/10000 [00:29<03:52, 38.22it/s]"
     ]
    },
    {
     "name": "stdout",
     "output_type": "stream",
     "text": [
      "\n",
      "Iteration: 1100\tCrossEntropyLoss 2.2992 (2.2992)\tVATLoss 0.0000 (0.0000)\tPrec@1 18.750 (18.750)\n"
     ]
    },
    {
     "name": "stderr",
     "output_type": "stream",
     "text": [
      " 12%|█▏        | 1208/10000 [00:32<03:35, 40.77it/s]"
     ]
    },
    {
     "name": "stdout",
     "output_type": "stream",
     "text": [
      "\n",
      "Iteration: 1200\tCrossEntropyLoss 2.3048 (2.3048)\tVATLoss 0.0000 (0.0000)\tPrec@1 9.375 (9.375)\n"
     ]
    },
    {
     "name": "stderr",
     "output_type": "stream",
     "text": [
      " 13%|█▎        | 1306/10000 [00:34<03:42, 39.05it/s]"
     ]
    },
    {
     "name": "stdout",
     "output_type": "stream",
     "text": [
      "\n",
      "Iteration: 1300\tCrossEntropyLoss 2.2991 (2.2991)\tVATLoss 0.0000 (0.0000)\tPrec@1 6.250 (6.250)\n"
     ]
    },
    {
     "name": "stderr",
     "output_type": "stream",
     "text": [
      " 14%|█▍        | 1407/10000 [00:37<03:44, 38.34it/s]"
     ]
    },
    {
     "name": "stdout",
     "output_type": "stream",
     "text": [
      "\n",
      "Iteration: 1400\tCrossEntropyLoss 2.3091 (2.3091)\tVATLoss 0.0000 (0.0000)\tPrec@1 6.250 (6.250)\n"
     ]
    },
    {
     "name": "stderr",
     "output_type": "stream",
     "text": [
      " 15%|█▌        | 1506/10000 [00:40<03:48, 37.24it/s]"
     ]
    },
    {
     "name": "stdout",
     "output_type": "stream",
     "text": [
      "\n",
      "Iteration: 1500\tCrossEntropyLoss 2.3128 (2.3128)\tVATLoss 0.0000 (0.0000)\tPrec@1 3.125 (3.125)\n"
     ]
    },
    {
     "name": "stderr",
     "output_type": "stream",
     "text": [
      " 16%|█▌        | 1605/10000 [00:42<03:33, 39.32it/s]"
     ]
    },
    {
     "name": "stdout",
     "output_type": "stream",
     "text": [
      "\n",
      "Iteration: 1600\tCrossEntropyLoss 2.2993 (2.2993)\tVATLoss 0.0000 (0.0000)\tPrec@1 3.125 (3.125)\n"
     ]
    },
    {
     "name": "stderr",
     "output_type": "stream",
     "text": [
      " 17%|█▋        | 1705/10000 [00:45<03:17, 42.06it/s]"
     ]
    },
    {
     "name": "stdout",
     "output_type": "stream",
     "text": [
      "\n",
      "Iteration: 1700\tCrossEntropyLoss 2.3068 (2.3068)\tVATLoss 0.0000 (0.0000)\tPrec@1 12.500 (12.500)\n"
     ]
    },
    {
     "name": "stderr",
     "output_type": "stream",
     "text": [
      " 18%|█▊        | 1808/10000 [00:47<03:46, 36.16it/s]"
     ]
    },
    {
     "name": "stdout",
     "output_type": "stream",
     "text": [
      "\n",
      "Iteration: 1800\tCrossEntropyLoss 2.3430 (2.3430)\tVATLoss 0.0000 (0.0000)\tPrec@1 6.250 (6.250)\n"
     ]
    },
    {
     "name": "stderr",
     "output_type": "stream",
     "text": [
      " 19%|█▉        | 1907/10000 [00:50<03:35, 37.53it/s]"
     ]
    },
    {
     "name": "stdout",
     "output_type": "stream",
     "text": [
      "\n",
      "Iteration: 1900\tCrossEntropyLoss 2.2868 (2.2868)\tVATLoss 0.0000 (0.0000)\tPrec@1 9.375 (9.375)\n"
     ]
    },
    {
     "name": "stderr",
     "output_type": "stream",
     "text": [
      " 20%|██        | 2009/10000 [00:52<03:23, 39.32it/s]"
     ]
    },
    {
     "name": "stdout",
     "output_type": "stream",
     "text": [
      "\n",
      "Iteration: 2000\tCrossEntropyLoss 2.3134 (2.3134)\tVATLoss 0.0000 (0.0000)\tPrec@1 3.125 (3.125)\n"
     ]
    },
    {
     "name": "stderr",
     "output_type": "stream",
     "text": [
      " 21%|██        | 2105/10000 [00:55<03:23, 38.82it/s]"
     ]
    },
    {
     "name": "stdout",
     "output_type": "stream",
     "text": [
      "\n",
      "Iteration: 2100\tCrossEntropyLoss 2.3035 (2.3035)\tVATLoss 0.0000 (0.0000)\tPrec@1 9.375 (9.375)\n"
     ]
    },
    {
     "name": "stderr",
     "output_type": "stream",
     "text": [
      " 22%|██▏       | 2205/10000 [00:57<03:23, 38.34it/s]"
     ]
    },
    {
     "name": "stdout",
     "output_type": "stream",
     "text": [
      "\n",
      "Iteration: 2200\tCrossEntropyLoss 2.3196 (2.3196)\tVATLoss 0.0000 (0.0000)\tPrec@1 9.375 (9.375)\n"
     ]
    },
    {
     "name": "stderr",
     "output_type": "stream",
     "text": [
      " 23%|██▎       | 2305/10000 [01:00<03:22, 37.99it/s]"
     ]
    },
    {
     "name": "stdout",
     "output_type": "stream",
     "text": [
      "\n",
      "Iteration: 2300\tCrossEntropyLoss 2.3022 (2.3022)\tVATLoss 0.0000 (0.0000)\tPrec@1 3.125 (3.125)\n"
     ]
    },
    {
     "name": "stderr",
     "output_type": "stream",
     "text": [
      " 24%|██▍       | 2408/10000 [01:03<03:08, 40.31it/s]"
     ]
    },
    {
     "name": "stdout",
     "output_type": "stream",
     "text": [
      "\n",
      "Iteration: 2400\tCrossEntropyLoss 2.2988 (2.2988)\tVATLoss 0.0000 (0.0000)\tPrec@1 12.500 (12.500)\n"
     ]
    },
    {
     "name": "stderr",
     "output_type": "stream",
     "text": [
      " 25%|██▌       | 2507/10000 [01:05<03:13, 38.81it/s]"
     ]
    },
    {
     "name": "stdout",
     "output_type": "stream",
     "text": [
      "\n",
      "Iteration: 2500\tCrossEntropyLoss 2.2971 (2.2971)\tVATLoss 0.0000 (0.0000)\tPrec@1 9.375 (9.375)\n"
     ]
    },
    {
     "name": "stderr",
     "output_type": "stream",
     "text": [
      " 26%|██▌       | 2609/10000 [01:08<03:08, 39.16it/s]"
     ]
    },
    {
     "name": "stdout",
     "output_type": "stream",
     "text": [
      "\n",
      "Iteration: 2600\tCrossEntropyLoss 2.3063 (2.3063)\tVATLoss 0.0000 (0.0000)\tPrec@1 6.250 (6.250)\n"
     ]
    },
    {
     "name": "stderr",
     "output_type": "stream",
     "text": [
      " 27%|██▋       | 2706/10000 [01:11<03:02, 40.04it/s]"
     ]
    },
    {
     "name": "stdout",
     "output_type": "stream",
     "text": [
      "\n",
      "Iteration: 2700\tCrossEntropyLoss 2.2956 (2.2956)\tVATLoss 0.0000 (0.0000)\tPrec@1 15.625 (15.625)\n"
     ]
    },
    {
     "name": "stderr",
     "output_type": "stream",
     "text": [
      " 28%|██▊       | 2805/10000 [01:13<03:10, 37.76it/s]"
     ]
    },
    {
     "name": "stdout",
     "output_type": "stream",
     "text": [
      "\n",
      "Iteration: 2800\tCrossEntropyLoss 2.3281 (2.3281)\tVATLoss 0.0000 (0.0000)\tPrec@1 12.500 (12.500)\n"
     ]
    },
    {
     "name": "stderr",
     "output_type": "stream",
     "text": [
      " 29%|██▉       | 2908/10000 [01:16<03:02, 38.89it/s]"
     ]
    },
    {
     "name": "stdout",
     "output_type": "stream",
     "text": [
      "\n",
      "Iteration: 2900\tCrossEntropyLoss 2.3257 (2.3257)\tVATLoss 0.0000 (0.0000)\tPrec@1 12.500 (12.500)\n"
     ]
    },
    {
     "name": "stderr",
     "output_type": "stream",
     "text": [
      " 30%|███       | 3008/10000 [01:18<03:04, 37.80it/s]"
     ]
    },
    {
     "name": "stdout",
     "output_type": "stream",
     "text": [
      "\n",
      "Iteration: 3000\tCrossEntropyLoss 2.3044 (2.3044)\tVATLoss 0.0000 (0.0000)\tPrec@1 6.250 (6.250)\n"
     ]
    },
    {
     "name": "stderr",
     "output_type": "stream",
     "text": [
      " 31%|███       | 3108/10000 [01:21<02:51, 40.11it/s]"
     ]
    },
    {
     "name": "stdout",
     "output_type": "stream",
     "text": [
      "\n",
      "Iteration: 3100\tCrossEntropyLoss 2.2908 (2.2908)\tVATLoss 0.0000 (0.0000)\tPrec@1 15.625 (15.625)\n"
     ]
    },
    {
     "name": "stderr",
     "output_type": "stream",
     "text": [
      " 32%|███▏      | 3205/10000 [01:23<02:49, 40.00it/s]"
     ]
    },
    {
     "name": "stdout",
     "output_type": "stream",
     "text": [
      "\n",
      "Iteration: 3200\tCrossEntropyLoss 2.3052 (2.3052)\tVATLoss 0.0000 (0.0000)\tPrec@1 3.125 (3.125)\n"
     ]
    },
    {
     "name": "stderr",
     "output_type": "stream",
     "text": [
      " 33%|███▎      | 3307/10000 [01:26<02:42, 41.31it/s]"
     ]
    },
    {
     "name": "stdout",
     "output_type": "stream",
     "text": [
      "\n",
      "Iteration: 3300\tCrossEntropyLoss 2.3129 (2.3129)\tVATLoss 0.0000 (0.0000)\tPrec@1 9.375 (9.375)\n"
     ]
    },
    {
     "name": "stderr",
     "output_type": "stream",
     "text": [
      " 34%|███▍      | 3408/10000 [01:29<02:43, 40.24it/s]"
     ]
    },
    {
     "name": "stdout",
     "output_type": "stream",
     "text": [
      "\n",
      "Iteration: 3400\tCrossEntropyLoss 2.2923 (2.2923)\tVATLoss 0.0000 (0.0000)\tPrec@1 21.875 (21.875)\n"
     ]
    },
    {
     "name": "stderr",
     "output_type": "stream",
     "text": [
      " 35%|███▌      | 3509/10000 [01:31<02:46, 38.88it/s]"
     ]
    },
    {
     "name": "stdout",
     "output_type": "stream",
     "text": [
      "\n",
      "Iteration: 3500\tCrossEntropyLoss 2.3032 (2.3032)\tVATLoss 0.0000 (0.0000)\tPrec@1 9.375 (9.375)\n"
     ]
    },
    {
     "name": "stderr",
     "output_type": "stream",
     "text": [
      " 36%|███▌      | 3605/10000 [01:34<02:33, 41.57it/s]"
     ]
    },
    {
     "name": "stdout",
     "output_type": "stream",
     "text": [
      "\n",
      "Iteration: 3600\tCrossEntropyLoss 2.2980 (2.2980)\tVATLoss 0.0000 (0.0000)\tPrec@1 12.500 (12.500)\n"
     ]
    },
    {
     "name": "stderr",
     "output_type": "stream",
     "text": [
      " 37%|███▋      | 3708/10000 [01:36<02:48, 37.36it/s]"
     ]
    },
    {
     "name": "stdout",
     "output_type": "stream",
     "text": [
      "\n",
      "Iteration: 3700\tCrossEntropyLoss 2.2998 (2.2998)\tVATLoss 0.0000 (0.0000)\tPrec@1 9.375 (9.375)\n"
     ]
    },
    {
     "name": "stderr",
     "output_type": "stream",
     "text": [
      " 38%|███▊      | 3806/10000 [01:39<02:44, 37.73it/s]"
     ]
    },
    {
     "name": "stdout",
     "output_type": "stream",
     "text": [
      "\n",
      "Iteration: 3800\tCrossEntropyLoss 2.3025 (2.3025)\tVATLoss 0.0000 (0.0000)\tPrec@1 15.625 (15.625)\n"
     ]
    },
    {
     "name": "stderr",
     "output_type": "stream",
     "text": [
      " 39%|███▉      | 3906/10000 [01:42<02:30, 40.41it/s]"
     ]
    },
    {
     "name": "stdout",
     "output_type": "stream",
     "text": [
      "\n",
      "Iteration: 3900\tCrossEntropyLoss 2.3101 (2.3101)\tVATLoss 0.0000 (0.0000)\tPrec@1 6.250 (6.250)\n"
     ]
    },
    {
     "name": "stderr",
     "output_type": "stream",
     "text": [
      " 40%|████      | 4005/10000 [01:44<02:39, 37.60it/s]"
     ]
    },
    {
     "name": "stdout",
     "output_type": "stream",
     "text": [
      "\n",
      "Iteration: 4000\tCrossEntropyLoss 2.3010 (2.3010)\tVATLoss 0.0000 (0.0000)\tPrec@1 9.375 (9.375)\n"
     ]
    },
    {
     "name": "stderr",
     "output_type": "stream",
     "text": [
      " 41%|████      | 4107/10000 [01:47<02:32, 38.57it/s]"
     ]
    },
    {
     "name": "stdout",
     "output_type": "stream",
     "text": [
      "\n",
      "Iteration: 4100\tCrossEntropyLoss 2.3126 (2.3126)\tVATLoss 0.0000 (0.0000)\tPrec@1 6.250 (6.250)\n"
     ]
    },
    {
     "name": "stderr",
     "output_type": "stream",
     "text": [
      " 42%|████▏     | 4207/10000 [01:49<02:23, 40.31it/s]"
     ]
    },
    {
     "name": "stdout",
     "output_type": "stream",
     "text": [
      "\n",
      "Iteration: 4200\tCrossEntropyLoss 2.2839 (2.2839)\tVATLoss 0.0000 (0.0000)\tPrec@1 9.375 (9.375)\n"
     ]
    },
    {
     "name": "stderr",
     "output_type": "stream",
     "text": [
      " 43%|████▎     | 4306/10000 [01:52<02:20, 40.49it/s]"
     ]
    },
    {
     "name": "stdout",
     "output_type": "stream",
     "text": [
      "\n",
      "Iteration: 4300\tCrossEntropyLoss 2.3169 (2.3169)\tVATLoss 0.0000 (0.0000)\tPrec@1 9.375 (9.375)\n"
     ]
    },
    {
     "name": "stderr",
     "output_type": "stream",
     "text": [
      " 44%|████▍     | 4407/10000 [01:54<02:25, 38.54it/s]"
     ]
    },
    {
     "name": "stdout",
     "output_type": "stream",
     "text": [
      "\n",
      "Iteration: 4400\tCrossEntropyLoss 2.2931 (2.2931)\tVATLoss 0.0000 (0.0000)\tPrec@1 12.500 (12.500)\n"
     ]
    },
    {
     "name": "stderr",
     "output_type": "stream",
     "text": [
      " 45%|████▌     | 4508/10000 [01:57<02:16, 40.22it/s]"
     ]
    },
    {
     "name": "stdout",
     "output_type": "stream",
     "text": [
      "\n",
      "Iteration: 4500\tCrossEntropyLoss 2.2791 (2.2791)\tVATLoss 0.0000 (0.0000)\tPrec@1 25.000 (25.000)\n"
     ]
    },
    {
     "name": "stderr",
     "output_type": "stream",
     "text": [
      " 46%|████▌     | 4606/10000 [02:00<02:27, 36.54it/s]"
     ]
    },
    {
     "name": "stdout",
     "output_type": "stream",
     "text": [
      "\n",
      "Iteration: 4600\tCrossEntropyLoss 2.3039 (2.3039)\tVATLoss 0.0000 (0.0000)\tPrec@1 12.500 (12.500)\n"
     ]
    },
    {
     "name": "stderr",
     "output_type": "stream",
     "text": [
      " 47%|████▋     | 4706/10000 [02:02<02:21, 37.35it/s]"
     ]
    },
    {
     "name": "stdout",
     "output_type": "stream",
     "text": [
      "\n",
      "Iteration: 4700\tCrossEntropyLoss 2.3384 (2.3384)\tVATLoss 0.0000 (0.0000)\tPrec@1 9.375 (9.375)\n"
     ]
    },
    {
     "name": "stderr",
     "output_type": "stream",
     "text": [
      " 48%|████▊     | 4806/10000 [02:05<02:13, 38.91it/s]"
     ]
    },
    {
     "name": "stdout",
     "output_type": "stream",
     "text": [
      "\n",
      "Iteration: 4800\tCrossEntropyLoss 2.3152 (2.3152)\tVATLoss 0.0000 (0.0000)\tPrec@1 3.125 (3.125)\n"
     ]
    },
    {
     "name": "stderr",
     "output_type": "stream",
     "text": [
      " 49%|████▉     | 4907/10000 [02:07<02:21, 35.91it/s]"
     ]
    },
    {
     "name": "stdout",
     "output_type": "stream",
     "text": [
      "\n",
      "Iteration: 4900\tCrossEntropyLoss 2.3009 (2.3009)\tVATLoss 0.0000 (0.0000)\tPrec@1 15.625 (15.625)\n"
     ]
    },
    {
     "name": "stderr",
     "output_type": "stream",
     "text": [
      " 50%|█████     | 5008/10000 [02:10<02:09, 38.52it/s]"
     ]
    },
    {
     "name": "stdout",
     "output_type": "stream",
     "text": [
      "\n",
      "Iteration: 5000\tCrossEntropyLoss 2.2931 (2.2931)\tVATLoss 0.0000 (0.0000)\tPrec@1 18.750 (18.750)\n"
     ]
    },
    {
     "name": "stderr",
     "output_type": "stream",
     "text": [
      " 51%|█████     | 5109/10000 [02:13<02:02, 40.00it/s]"
     ]
    },
    {
     "name": "stdout",
     "output_type": "stream",
     "text": [
      "\n",
      "Iteration: 5100\tCrossEntropyLoss 2.3010 (2.3010)\tVATLoss 0.0000 (0.0000)\tPrec@1 15.625 (15.625)\n"
     ]
    },
    {
     "name": "stderr",
     "output_type": "stream",
     "text": [
      " 52%|█████▏    | 5205/10000 [02:15<02:01, 39.61it/s]"
     ]
    },
    {
     "name": "stdout",
     "output_type": "stream",
     "text": [
      "\n",
      "Iteration: 5200\tCrossEntropyLoss 2.2974 (2.2974)\tVATLoss 0.0000 (0.0000)\tPrec@1 12.500 (12.500)\n"
     ]
    },
    {
     "name": "stderr",
     "output_type": "stream",
     "text": [
      " 53%|█████▎    | 5307/10000 [02:18<02:03, 38.06it/s]"
     ]
    },
    {
     "name": "stdout",
     "output_type": "stream",
     "text": [
      "\n",
      "Iteration: 5300\tCrossEntropyLoss 2.2992 (2.2992)\tVATLoss 0.0000 (0.0000)\tPrec@1 9.375 (9.375)\n"
     ]
    },
    {
     "name": "stderr",
     "output_type": "stream",
     "text": [
      " 54%|█████▍    | 5407/10000 [02:20<02:07, 36.07it/s]"
     ]
    },
    {
     "name": "stdout",
     "output_type": "stream",
     "text": [
      "\n",
      "Iteration: 5400\tCrossEntropyLoss 2.3020 (2.3020)\tVATLoss 0.0000 (0.0000)\tPrec@1 3.125 (3.125)\n"
     ]
    },
    {
     "name": "stderr",
     "output_type": "stream",
     "text": [
      " 55%|█████▌    | 5506/10000 [02:23<01:56, 38.72it/s]"
     ]
    },
    {
     "name": "stdout",
     "output_type": "stream",
     "text": [
      "\n",
      "Iteration: 5500\tCrossEntropyLoss 2.2992 (2.2992)\tVATLoss 0.0000 (0.0000)\tPrec@1 15.625 (15.625)\n"
     ]
    },
    {
     "name": "stderr",
     "output_type": "stream",
     "text": [
      " 56%|█████▌    | 5607/10000 [02:26<01:52, 39.10it/s]"
     ]
    },
    {
     "name": "stdout",
     "output_type": "stream",
     "text": [
      "\n",
      "Iteration: 5600\tCrossEntropyLoss 2.3098 (2.3098)\tVATLoss 0.0000 (0.0000)\tPrec@1 9.375 (9.375)\n"
     ]
    },
    {
     "name": "stderr",
     "output_type": "stream",
     "text": [
      " 57%|█████▋    | 5709/10000 [02:28<01:49, 39.19it/s]"
     ]
    },
    {
     "name": "stdout",
     "output_type": "stream",
     "text": [
      "\n",
      "Iteration: 5700\tCrossEntropyLoss 2.3086 (2.3086)\tVATLoss 0.0000 (0.0000)\tPrec@1 9.375 (9.375)\n"
     ]
    },
    {
     "name": "stderr",
     "output_type": "stream",
     "text": [
      " 58%|█████▊    | 5807/10000 [02:31<01:47, 39.13it/s]"
     ]
    },
    {
     "name": "stdout",
     "output_type": "stream",
     "text": [
      "\n",
      "Iteration: 5800\tCrossEntropyLoss 2.3169 (2.3169)\tVATLoss 0.0000 (0.0000)\tPrec@1 6.250 (6.250)\n"
     ]
    },
    {
     "name": "stderr",
     "output_type": "stream",
     "text": [
      " 59%|█████▉    | 5906/10000 [02:33<01:39, 41.20it/s]"
     ]
    },
    {
     "name": "stdout",
     "output_type": "stream",
     "text": [
      "\n",
      "Iteration: 5900\tCrossEntropyLoss 2.2712 (2.2712)\tVATLoss 0.0000 (0.0000)\tPrec@1 25.000 (25.000)\n"
     ]
    },
    {
     "name": "stderr",
     "output_type": "stream",
     "text": [
      " 60%|██████    | 6006/10000 [02:36<01:42, 38.92it/s]"
     ]
    },
    {
     "name": "stdout",
     "output_type": "stream",
     "text": [
      "\n",
      "Iteration: 6000\tCrossEntropyLoss 2.2954 (2.2954)\tVATLoss 0.0000 (0.0000)\tPrec@1 9.375 (9.375)\n"
     ]
    },
    {
     "name": "stderr",
     "output_type": "stream",
     "text": [
      " 61%|██████    | 6105/10000 [02:38<01:35, 40.71it/s]"
     ]
    },
    {
     "name": "stdout",
     "output_type": "stream",
     "text": [
      "\n",
      "Iteration: 6100\tCrossEntropyLoss 2.3041 (2.3041)\tVATLoss 0.0000 (0.0000)\tPrec@1 12.500 (12.500)\n"
     ]
    },
    {
     "name": "stderr",
     "output_type": "stream",
     "text": [
      " 62%|██████▏   | 6206/10000 [02:41<01:39, 38.31it/s]"
     ]
    },
    {
     "name": "stdout",
     "output_type": "stream",
     "text": [
      "\n",
      "Iteration: 6200\tCrossEntropyLoss 2.3097 (2.3097)\tVATLoss 0.0000 (0.0000)\tPrec@1 3.125 (3.125)\n"
     ]
    },
    {
     "name": "stderr",
     "output_type": "stream",
     "text": [
      " 63%|██████▎   | 6305/10000 [02:43<01:33, 39.50it/s]"
     ]
    },
    {
     "name": "stdout",
     "output_type": "stream",
     "text": [
      "\n",
      "Iteration: 6300\tCrossEntropyLoss 2.3079 (2.3079)\tVATLoss 0.0000 (0.0000)\tPrec@1 0.000 (0.000)\n"
     ]
    },
    {
     "name": "stderr",
     "output_type": "stream",
     "text": [
      " 64%|██████▍   | 6408/10000 [02:46<01:29, 40.21it/s]"
     ]
    },
    {
     "name": "stdout",
     "output_type": "stream",
     "text": [
      "\n",
      "Iteration: 6400\tCrossEntropyLoss 2.3100 (2.3100)\tVATLoss 0.0000 (0.0000)\tPrec@1 15.625 (15.625)\n"
     ]
    },
    {
     "name": "stderr",
     "output_type": "stream",
     "text": [
      " 65%|██████▌   | 6505/10000 [02:49<01:25, 40.66it/s]"
     ]
    },
    {
     "name": "stdout",
     "output_type": "stream",
     "text": [
      "\n",
      "Iteration: 6500\tCrossEntropyLoss 2.2967 (2.2967)\tVATLoss 0.0000 (0.0000)\tPrec@1 12.500 (12.500)\n"
     ]
    },
    {
     "name": "stderr",
     "output_type": "stream",
     "text": [
      " 66%|██████▌   | 6605/10000 [02:51<01:32, 36.51it/s]"
     ]
    },
    {
     "name": "stdout",
     "output_type": "stream",
     "text": [
      "\n",
      "Iteration: 6600\tCrossEntropyLoss 2.2998 (2.2998)\tVATLoss 0.0000 (0.0000)\tPrec@1 0.000 (0.000)\n"
     ]
    },
    {
     "name": "stderr",
     "output_type": "stream",
     "text": [
      " 67%|██████▋   | 6705/10000 [02:54<01:20, 40.68it/s]"
     ]
    },
    {
     "name": "stdout",
     "output_type": "stream",
     "text": [
      "\n",
      "Iteration: 6700\tCrossEntropyLoss 2.3076 (2.3076)\tVATLoss 0.0000 (0.0000)\tPrec@1 15.625 (15.625)\n"
     ]
    },
    {
     "name": "stderr",
     "output_type": "stream",
     "text": [
      " 68%|██████▊   | 6808/10000 [02:57<01:19, 40.06it/s]"
     ]
    },
    {
     "name": "stdout",
     "output_type": "stream",
     "text": [
      "\n",
      "Iteration: 6800\tCrossEntropyLoss 2.2808 (2.2808)\tVATLoss 0.0000 (0.0000)\tPrec@1 9.375 (9.375)\n"
     ]
    },
    {
     "name": "stderr",
     "output_type": "stream",
     "text": [
      " 69%|██████▉   | 6907/10000 [02:59<01:24, 36.57it/s]"
     ]
    },
    {
     "name": "stdout",
     "output_type": "stream",
     "text": [
      "\n",
      "Iteration: 6900\tCrossEntropyLoss 2.3087 (2.3087)\tVATLoss 0.0000 (0.0000)\tPrec@1 6.250 (6.250)\n"
     ]
    },
    {
     "name": "stderr",
     "output_type": "stream",
     "text": [
      " 70%|███████   | 7007/10000 [03:02<01:17, 38.72it/s]"
     ]
    },
    {
     "name": "stdout",
     "output_type": "stream",
     "text": [
      "\n",
      "Iteration: 7000\tCrossEntropyLoss 2.3154 (2.3154)\tVATLoss 0.0000 (0.0000)\tPrec@1 0.000 (0.000)\n"
     ]
    },
    {
     "name": "stderr",
     "output_type": "stream",
     "text": [
      " 71%|███████   | 7105/10000 [03:04<01:19, 36.54it/s]"
     ]
    },
    {
     "name": "stdout",
     "output_type": "stream",
     "text": [
      "\n",
      "Iteration: 7100\tCrossEntropyLoss 2.3023 (2.3023)\tVATLoss 0.0000 (0.0000)\tPrec@1 6.250 (6.250)\n"
     ]
    },
    {
     "name": "stderr",
     "output_type": "stream",
     "text": [
      " 72%|███████▏  | 7207/10000 [03:07<01:14, 37.61it/s]"
     ]
    },
    {
     "name": "stdout",
     "output_type": "stream",
     "text": [
      "\n",
      "Iteration: 7200\tCrossEntropyLoss 2.2992 (2.2992)\tVATLoss 0.0000 (0.0000)\tPrec@1 15.625 (15.625)\n"
     ]
    },
    {
     "name": "stderr",
     "output_type": "stream",
     "text": [
      " 73%|███████▎  | 7307/10000 [03:10<01:09, 38.52it/s]"
     ]
    },
    {
     "name": "stdout",
     "output_type": "stream",
     "text": [
      "\n",
      "Iteration: 7300\tCrossEntropyLoss 2.3015 (2.3015)\tVATLoss 0.0000 (0.0000)\tPrec@1 6.250 (6.250)\n"
     ]
    },
    {
     "name": "stderr",
     "output_type": "stream",
     "text": [
      " 74%|███████▍  | 7408/10000 [03:12<01:11, 36.50it/s]"
     ]
    },
    {
     "name": "stdout",
     "output_type": "stream",
     "text": [
      "\n",
      "Iteration: 7400\tCrossEntropyLoss 2.3010 (2.3010)\tVATLoss 0.0000 (0.0000)\tPrec@1 9.375 (9.375)\n"
     ]
    },
    {
     "name": "stderr",
     "output_type": "stream",
     "text": [
      " 75%|███████▌  | 7508/10000 [03:15<01:05, 37.77it/s]"
     ]
    },
    {
     "name": "stdout",
     "output_type": "stream",
     "text": [
      "\n",
      "Iteration: 7500\tCrossEntropyLoss 2.3041 (2.3041)\tVATLoss 0.0000 (0.0000)\tPrec@1 15.625 (15.625)\n"
     ]
    },
    {
     "name": "stderr",
     "output_type": "stream",
     "text": [
      " 76%|███████▌  | 7609/10000 [03:18<00:59, 40.11it/s]"
     ]
    },
    {
     "name": "stdout",
     "output_type": "stream",
     "text": [
      "\n",
      "Iteration: 7600\tCrossEntropyLoss 2.3147 (2.3147)\tVATLoss 0.0000 (0.0000)\tPrec@1 9.375 (9.375)\n"
     ]
    },
    {
     "name": "stderr",
     "output_type": "stream",
     "text": [
      " 77%|███████▋  | 7707/10000 [03:20<00:58, 38.88it/s]"
     ]
    },
    {
     "name": "stdout",
     "output_type": "stream",
     "text": [
      "\n",
      "Iteration: 7700\tCrossEntropyLoss 2.3088 (2.3088)\tVATLoss 0.0000 (0.0000)\tPrec@1 12.500 (12.500)\n"
     ]
    },
    {
     "name": "stderr",
     "output_type": "stream",
     "text": [
      " 78%|███████▊  | 7807/10000 [03:23<00:58, 37.26it/s]"
     ]
    },
    {
     "name": "stdout",
     "output_type": "stream",
     "text": [
      "\n",
      "Iteration: 7800\tCrossEntropyLoss 2.2970 (2.2970)\tVATLoss 0.0000 (0.0000)\tPrec@1 12.500 (12.500)\n"
     ]
    },
    {
     "name": "stderr",
     "output_type": "stream",
     "text": [
      " 79%|███████▉  | 7905/10000 [03:25<00:53, 39.45it/s]"
     ]
    },
    {
     "name": "stdout",
     "output_type": "stream",
     "text": [
      "\n",
      "Iteration: 7900\tCrossEntropyLoss 2.3210 (2.3210)\tVATLoss 0.0000 (0.0000)\tPrec@1 9.375 (9.375)\n"
     ]
    },
    {
     "name": "stderr",
     "output_type": "stream",
     "text": [
      " 80%|████████  | 8004/10000 [03:28<00:53, 37.54it/s]"
     ]
    },
    {
     "name": "stdout",
     "output_type": "stream",
     "text": [
      "\n",
      "Iteration: 8000\tCrossEntropyLoss 2.3204 (2.3204)\tVATLoss 0.0000 (0.0000)\tPrec@1 3.125 (3.125)\n"
     ]
    },
    {
     "name": "stderr",
     "output_type": "stream",
     "text": [
      " 81%|████████  | 8106/10000 [03:31<00:50, 37.71it/s]"
     ]
    },
    {
     "name": "stdout",
     "output_type": "stream",
     "text": [
      "\n",
      "Iteration: 8100\tCrossEntropyLoss 2.3139 (2.3139)\tVATLoss 0.0000 (0.0000)\tPrec@1 3.125 (3.125)\n"
     ]
    },
    {
     "name": "stderr",
     "output_type": "stream",
     "text": [
      " 82%|████████▏ | 8205/10000 [03:33<00:46, 38.37it/s]"
     ]
    },
    {
     "name": "stdout",
     "output_type": "stream",
     "text": [
      "\n",
      "Iteration: 8200\tCrossEntropyLoss 2.3055 (2.3055)\tVATLoss 0.0000 (0.0000)\tPrec@1 3.125 (3.125)\n"
     ]
    },
    {
     "name": "stderr",
     "output_type": "stream",
     "text": [
      " 83%|████████▎ | 8307/10000 [03:36<00:44, 38.12it/s]"
     ]
    },
    {
     "name": "stdout",
     "output_type": "stream",
     "text": [
      "\n",
      "Iteration: 8300\tCrossEntropyLoss 2.3096 (2.3096)\tVATLoss 0.0000 (0.0000)\tPrec@1 0.000 (0.000)\n"
     ]
    },
    {
     "name": "stderr",
     "output_type": "stream",
     "text": [
      " 84%|████████▍ | 8406/10000 [03:38<00:43, 36.94it/s]"
     ]
    },
    {
     "name": "stdout",
     "output_type": "stream",
     "text": [
      "\n",
      "Iteration: 8400\tCrossEntropyLoss 2.2967 (2.2967)\tVATLoss 0.0000 (0.0000)\tPrec@1 18.750 (18.750)\n"
     ]
    },
    {
     "name": "stderr",
     "output_type": "stream",
     "text": [
      " 85%|████████▌ | 8506/10000 [03:41<00:38, 38.51it/s]"
     ]
    },
    {
     "name": "stdout",
     "output_type": "stream",
     "text": [
      "\n",
      "Iteration: 8500\tCrossEntropyLoss 2.3216 (2.3216)\tVATLoss 0.0000 (0.0000)\tPrec@1 3.125 (3.125)\n"
     ]
    },
    {
     "name": "stderr",
     "output_type": "stream",
     "text": [
      " 86%|████████▌ | 8607/10000 [03:44<00:37, 36.67it/s]"
     ]
    },
    {
     "name": "stdout",
     "output_type": "stream",
     "text": [
      "\n",
      "Iteration: 8600\tCrossEntropyLoss 2.3025 (2.3025)\tVATLoss 0.0000 (0.0000)\tPrec@1 15.625 (15.625)\n"
     ]
    },
    {
     "name": "stderr",
     "output_type": "stream",
     "text": [
      " 87%|████████▋ | 8709/10000 [03:46<00:32, 40.29it/s]"
     ]
    },
    {
     "name": "stdout",
     "output_type": "stream",
     "text": [
      "\n",
      "Iteration: 8700\tCrossEntropyLoss 2.3188 (2.3188)\tVATLoss 0.0000 (0.0000)\tPrec@1 3.125 (3.125)\n"
     ]
    },
    {
     "name": "stderr",
     "output_type": "stream",
     "text": [
      " 88%|████████▊ | 8808/10000 [03:49<00:30, 39.32it/s]"
     ]
    },
    {
     "name": "stdout",
     "output_type": "stream",
     "text": [
      "\n",
      "Iteration: 8800\tCrossEntropyLoss 2.3004 (2.3004)\tVATLoss 0.0000 (0.0000)\tPrec@1 12.500 (12.500)\n"
     ]
    },
    {
     "name": "stderr",
     "output_type": "stream",
     "text": [
      " 89%|████████▉ | 8906/10000 [03:51<00:29, 36.55it/s]"
     ]
    },
    {
     "name": "stdout",
     "output_type": "stream",
     "text": [
      "\n",
      "Iteration: 8900\tCrossEntropyLoss 2.3107 (2.3107)\tVATLoss 0.0000 (0.0000)\tPrec@1 12.500 (12.500)\n"
     ]
    },
    {
     "name": "stderr",
     "output_type": "stream",
     "text": [
      " 90%|█████████ | 9005/10000 [03:54<00:26, 37.98it/s]"
     ]
    },
    {
     "name": "stdout",
     "output_type": "stream",
     "text": [
      "\n",
      "Iteration: 9000\tCrossEntropyLoss 2.2901 (2.2901)\tVATLoss 0.0000 (0.0000)\tPrec@1 15.625 (15.625)\n"
     ]
    },
    {
     "name": "stderr",
     "output_type": "stream",
     "text": [
      " 91%|█████████ | 9105/10000 [03:57<00:23, 37.56it/s]"
     ]
    },
    {
     "name": "stdout",
     "output_type": "stream",
     "text": [
      "\n",
      "Iteration: 9100\tCrossEntropyLoss 2.3068 (2.3068)\tVATLoss 0.0000 (0.0000)\tPrec@1 6.250 (6.250)\n"
     ]
    },
    {
     "name": "stderr",
     "output_type": "stream",
     "text": [
      " 92%|█████████▏| 9206/10000 [03:59<00:20, 38.17it/s]"
     ]
    },
    {
     "name": "stdout",
     "output_type": "stream",
     "text": [
      "\n",
      "Iteration: 9200\tCrossEntropyLoss 2.3062 (2.3062)\tVATLoss 0.0000 (0.0000)\tPrec@1 6.250 (6.250)\n"
     ]
    },
    {
     "name": "stderr",
     "output_type": "stream",
     "text": [
      " 93%|█████████▎| 9308/10000 [04:02<00:17, 40.63it/s]"
     ]
    },
    {
     "name": "stdout",
     "output_type": "stream",
     "text": [
      "\n",
      "Iteration: 9300\tCrossEntropyLoss 2.3307 (2.3307)\tVATLoss 0.0000 (0.0000)\tPrec@1 0.000 (0.000)\n"
     ]
    },
    {
     "name": "stderr",
     "output_type": "stream",
     "text": [
      " 94%|█████████▍| 9404/10000 [04:04<00:14, 40.09it/s]"
     ]
    },
    {
     "name": "stdout",
     "output_type": "stream",
     "text": [
      "\n",
      "Iteration: 9400\tCrossEntropyLoss 2.2987 (2.2987)\tVATLoss 0.0000 (0.0000)\tPrec@1 12.500 (12.500)\n"
     ]
    },
    {
     "name": "stderr",
     "output_type": "stream",
     "text": [
      " 95%|█████████▌| 9506/10000 [04:07<00:13, 37.38it/s]"
     ]
    },
    {
     "name": "stdout",
     "output_type": "stream",
     "text": [
      "\n",
      "Iteration: 9500\tCrossEntropyLoss 2.2851 (2.2851)\tVATLoss 0.0000 (0.0000)\tPrec@1 15.625 (15.625)\n"
     ]
    },
    {
     "name": "stderr",
     "output_type": "stream",
     "text": [
      " 96%|█████████▌| 9605/10000 [04:10<00:10, 38.42it/s]"
     ]
    },
    {
     "name": "stdout",
     "output_type": "stream",
     "text": [
      "\n",
      "Iteration: 9600\tCrossEntropyLoss 2.3178 (2.3178)\tVATLoss 0.0000 (0.0000)\tPrec@1 6.250 (6.250)\n"
     ]
    },
    {
     "name": "stderr",
     "output_type": "stream",
     "text": [
      " 97%|█████████▋| 9708/10000 [04:12<00:07, 39.75it/s]"
     ]
    },
    {
     "name": "stdout",
     "output_type": "stream",
     "text": [
      "\n",
      "Iteration: 9700\tCrossEntropyLoss 2.3060 (2.3060)\tVATLoss 0.0000 (0.0000)\tPrec@1 9.375 (9.375)\n"
     ]
    },
    {
     "name": "stderr",
     "output_type": "stream",
     "text": [
      " 98%|█████████▊| 9806/10000 [04:15<00:05, 37.99it/s]"
     ]
    },
    {
     "name": "stdout",
     "output_type": "stream",
     "text": [
      "\n",
      "Iteration: 9800\tCrossEntropyLoss 2.3071 (2.3071)\tVATLoss 0.0000 (0.0000)\tPrec@1 9.375 (9.375)\n"
     ]
    },
    {
     "name": "stderr",
     "output_type": "stream",
     "text": [
      " 99%|█████████▉| 9907/10000 [04:17<00:02, 37.45it/s]"
     ]
    },
    {
     "name": "stdout",
     "output_type": "stream",
     "text": [
      "\n",
      "Iteration: 9900\tCrossEntropyLoss 2.3026 (2.3026)\tVATLoss 0.0000 (0.0000)\tPrec@1 9.375 (9.375)\n"
     ]
    },
    {
     "name": "stderr",
     "output_type": "stream",
     "text": [
      "100%|██████████| 10000/10000 [04:20<00:00, 38.42it/s]\n"
     ]
    }
   ],
   "source": [
    "device = torch.device('mps')\n",
    "\n",
    "data_iterators = get_iters(\n",
    "        root_path='.',\n",
    "        l_batch_size=32,\n",
    "        ul_batch_size=32,\n",
    "        test_batch_size=1000,\n",
    "        workers=0\n",
    "    )\n",
    "\n",
    "model = Net().to(device)\n",
    "optimizer = optim.SGD(model.parameters(), lr=0.01, momentum=0.9)\n",
    "\n",
    "train(model, device, data_iterators, optimizer)"
   ]
  },
  {
   "cell_type": "code",
   "execution_count": 104,
   "metadata": {},
   "outputs": [],
   "source": [
    "def test(model, device, data_iterators):\n",
    "    model.eval()\n",
    "    correct = 0\n",
    "    \n",
    "    with torch.no_grad():\n",
    "        for index , (x, y) in enumerate(data_iterators['test']):\n",
    "            print(index , x.shape)\n",
    "            with torch.no_grad():\n",
    "                x, y = x.to(device), y.to(device)\n",
    "                outputs = model(x)\n",
    "            correct += torch.eq(outputs.max(dim=1)[1], y).detach().cpu().float().sum()\n",
    "        test_acc = correct / len(data_iterators['test']._dataset) * 100\n",
    "\n",
    "    print(f'\\nTest Accuracy: {test_acc:.4f}%\\n')"
   ]
  },
  {
   "cell_type": "code",
   "execution_count": 105,
   "metadata": {},
   "outputs": [
    {
     "name": "stdout",
     "output_type": "stream",
     "text": [
      "0 torch.Size([1000, 3, 32, 32])\n",
      "1 torch.Size([1000, 3, 32, 32])\n",
      "2 torch.Size([1000, 3, 32, 32])\n",
      "3 torch.Size([1000, 3, 32, 32])\n",
      "4 torch.Size([1000, 3, 32, 32])\n",
      "5 torch.Size([1000, 3, 32, 32])\n",
      "6 torch.Size([1000, 3, 32, 32])\n",
      "7 torch.Size([1000, 3, 32, 32])\n",
      "8 torch.Size([1000, 3, 32, 32])\n",
      "9 torch.Size([1000, 3, 32, 32])\n",
      "\n",
      "Test Accuracy: 10.0000%\n",
      "\n"
     ]
    }
   ],
   "source": [
    "test(model, device, data_iterators)"
   ]
  },
  {
   "cell_type": "code",
   "execution_count": 98,
   "metadata": {},
   "outputs": [
    {
     "data": {
      "text/plain": [
       "<bound method _BaseDataLoaderIter._next_index of <torch.utils.data.dataloader._SingleProcessDataLoaderIter object at 0x177434490>>"
      ]
     },
     "execution_count": 98,
     "metadata": {},
     "output_type": "execute_result"
    }
   ],
   "source": [
    "data_iterators['test']._next_index"
   ]
  },
  {
   "cell_type": "code",
   "execution_count": null,
   "metadata": {},
   "outputs": [],
   "source": []
  },
  {
   "cell_type": "code",
   "execution_count": null,
   "metadata": {},
   "outputs": [],
   "source": []
  },
  {
   "cell_type": "code",
   "execution_count": null,
   "metadata": {},
   "outputs": [],
   "source": []
  }
 ],
 "metadata": {
  "kernelspec": {
   "display_name": "Tobigs",
   "language": "python",
   "name": "python3"
  },
  "language_info": {
   "codemirror_mode": {
    "name": "ipython",
    "version": 3
   },
   "file_extension": ".py",
   "mimetype": "text/x-python",
   "name": "python",
   "nbconvert_exporter": "python",
   "pygments_lexer": "ipython3",
   "version": "3.9.16"
  },
  "orig_nbformat": 4
 },
 "nbformat": 4,
 "nbformat_minor": 2
}
